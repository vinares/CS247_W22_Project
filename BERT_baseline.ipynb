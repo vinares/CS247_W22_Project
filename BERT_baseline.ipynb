{
  "nbformat": 4,
  "nbformat_minor": 0,
  "metadata": {
    "colab": {
      "name": "BERT_Baseline_Yuchen.ipynb",
      "provenance": [],
      "collapsed_sections": [],
      "machine_shape": "hm"
    },
    "kernelspec": {
      "name": "python3",
      "display_name": "Python 3"
    },
    "language_info": {
      "name": "python"
    },
    "accelerator": "TPU"
  },
  "cells": [
    {
      "cell_type": "code",
      "source": [
        "import numpy as np\n",
        "import tensorflow as tf\n",
        "from tensorflow.keras import layers\n",
        "from tqdm import tqdm\n",
        "import pandas as pd\n",
        "from tensorflow import keras\n",
        "\n",
        "from tensorflow.data import Dataset\n",
        "from keras import models\n",
        "try:\n",
        "  from transformers import AutoTokenizer,TFBertMainLayer\n",
        "except:\n",
        "  !pip install --quiet transformers\n",
        "  from transformers import AutoTokenizer,TFBertMainLayer\n",
        "MODEL_NAME = \"/content/drive/MyDrive/Colab Notebooks/bert_base_cased\"\n",
        "TRAIN_CSV = \"/content/drive/MyDrive/Colab Notebooks/ori_data/train.csv\"\n",
        "TRAIN_DIR = \"/content/drive/MyDrive/Colab Notebooks/ori_data/train\"\n",
        "###Insipred from CHRIS DEOTTE"
      ],
      "metadata": {
        "id": "mV2VezzYjFIh",
        "colab": {
          "base_uri": "https://localhost:8080/"
        },
        "outputId": "56f4f62a-e7a8-4431-81ce-3d09f19402d4"
      },
      "execution_count": null,
      "outputs": [
        {
          "output_type": "stream",
          "name": "stdout",
          "text": [
            "\u001b[K     |████████████████████████████████| 3.5 MB 5.3 MB/s \n",
            "\u001b[K     |████████████████████████████████| 6.8 MB 77.7 MB/s \n",
            "\u001b[K     |████████████████████████████████| 67 kB 4.1 MB/s \n",
            "\u001b[K     |████████████████████████████████| 895 kB 69.8 MB/s \n",
            "\u001b[K     |████████████████████████████████| 596 kB 77.6 MB/s \n",
            "\u001b[?25h"
          ]
        }
      ]
    },
    {
      "cell_type": "markdown",
      "source": [
        "# Load Data From train.csv"
      ],
      "metadata": {
        "id": "pmibIK88OgOa"
      }
    },
    {
      "cell_type": "code",
      "source": [
        "train = pd.read_csv(TRAIN_CSV)\n",
        "IDS = train.id.unique()\n",
        "print(f\"Number of train samples are: {len(IDS)}\")"
      ],
      "metadata": {
        "id": "68lSYlsdlmfQ",
        "colab": {
          "base_uri": "https://localhost:8080/"
        },
        "outputId": "d08ef899-cf05-426c-b6f2-47e0ccc7e1dd"
      },
      "execution_count": null,
      "outputs": [
        {
          "output_type": "stream",
          "name": "stdout",
          "text": [
            "Number of train samples are: 15594\n"
          ]
        }
      ]
    },
    {
      "cell_type": "code",
      "source": [
        "MAX_LEN = 512 # BERT limit\n",
        "\n",
        "# THE TOKENS AND ATTENTION ARRAYS\n",
        "tokenizer = AutoTokenizer.from_pretrained(MODEL_NAME)\n",
        "train_tokens = np.zeros((len(IDS),MAX_LEN), dtype='int32')\n",
        "train_attention = np.zeros((len(IDS),MAX_LEN), dtype='int32')\n",
        "\n",
        "# THE 14 CLASSES FOR NER\n",
        "lead_b = np.zeros((len(IDS),MAX_LEN))\n",
        "lead_i = np.zeros((len(IDS),MAX_LEN))\n",
        "\n",
        "position_b = np.zeros((len(IDS),MAX_LEN))\n",
        "position_i = np.zeros((len(IDS),MAX_LEN))\n",
        "\n",
        "evidence_b = np.zeros((len(IDS),MAX_LEN))\n",
        "evidence_i = np.zeros((len(IDS),MAX_LEN))\n",
        "\n",
        "claim_b = np.zeros((len(IDS),MAX_LEN))\n",
        "claim_i = np.zeros((len(IDS),MAX_LEN))\n",
        "\n",
        "conclusion_b = np.zeros((len(IDS),MAX_LEN))\n",
        "conclusion_i = np.zeros((len(IDS),MAX_LEN))\n",
        "\n",
        "counterclaim_b = np.zeros((len(IDS),MAX_LEN))\n",
        "counterclaim_i = np.zeros((len(IDS),MAX_LEN))\n",
        "\n",
        "rebuttal_b = np.zeros((len(IDS),MAX_LEN))\n",
        "rebuttal_i = np.zeros((len(IDS),MAX_LEN))\n",
        "\n",
        "# HELPER VARIABLES\n",
        "train_lens = []\n",
        "targets_b = [lead_b, position_b, evidence_b, claim_b, conclusion_b, counterclaim_b, rebuttal_b]\n",
        "targets_i = [lead_i, position_i, evidence_i, claim_i, conclusion_i, counterclaim_i, rebuttal_i]\n",
        "target_map = {'Lead':0, 'Position':1, 'Evidence':2, 'Claim':3, 'Concluding Statement':4,\n",
        "             'Counterclaim':5, 'Rebuttal':6}"
      ],
      "metadata": {
        "id": "KKfQOiMMoqF6"
      },
      "execution_count": null,
      "outputs": []
    },
    {
      "cell_type": "code",
      "source": [
        "for id_num in tqdm(range(len(IDS))):\n",
        "    # READ TRAIN TEXT, TOKENIZE, AND SAVE IN TOKEN ARRAYS    \n",
        "    n = IDS[id_num]\n",
        "    name = f'/content/drive/MyDrive/Colab Notebooks/ori_data/train/{n}.txt'\n",
        "    txt = open(name, 'r').read()\n",
        "    train_lens.append( len(txt.split()))\n",
        "    tokens = tokenizer.encode_plus(txt, max_length=MAX_LEN, padding='max_length',\n",
        "                                   truncation=True, return_offsets_mapping=True)\n",
        "    train_tokens[id_num,] = tokens['input_ids']\n",
        "    train_attention[id_num,] = tokens['attention_mask']\n",
        "    \n",
        "    # FIND TARGETS IN TEXT AND SAVE IN TARGET ARRAYS\n",
        "    offsets = tokens['offset_mapping']\n",
        "    offset_index = 0\n",
        "    df = train.loc[train.id==n]\n",
        "    for index,row in df.iterrows():\n",
        "        a = row.discourse_start\n",
        "        b = row.discourse_end\n",
        "        if offset_index>len(offsets)-1:\n",
        "            break\n",
        "        c = offsets[offset_index][0]\n",
        "        d = offsets[offset_index][1]\n",
        "        beginning = True\n",
        "        while b>c:\n",
        "            if (c>=a)&(b>=d):\n",
        "                k = target_map[row.discourse_type]\n",
        "                if beginning:\n",
        "                    targets_b[k][id_num][offset_index] = 1\n",
        "                    beginning = False\n",
        "                else:\n",
        "                    targets_i[k][id_num][offset_index] = 1\n",
        "            offset_index += 1\n",
        "            if offset_index>len(offsets)-1:\n",
        "                break\n",
        "            c = offsets[offset_index][0]\n",
        "            d = offsets[offset_index][1]"
      ],
      "metadata": {
        "id": "PcW-Xwqfo61S",
        "colab": {
          "base_uri": "https://localhost:8080/"
        },
        "outputId": "bd762fbe-a1a1-4c6d-89b2-5f728bac719a"
      },
      "execution_count": null,
      "outputs": [
        {
          "output_type": "stream",
          "name": "stderr",
          "text": [
            "100%|██████████| 15594/15594 [1:12:12<00:00,  3.60it/s]\n"
          ]
        }
      ]
    },
    {
      "cell_type": "code",
      "source": [
        "train_len = [x for x in train_lens if x <=512]\n",
        "print(f\"{len(train_len)/len(IDS) * 100}% of train data has equal or less than 512 tokens\")"
      ],
      "metadata": {
        "id": "fkC1abG-pARS",
        "colab": {
          "base_uri": "https://localhost:8080/"
        },
        "outputId": "33ef0b7d-83d2-4cfa-bbdd-53d5bf9c06df"
      },
      "execution_count": null,
      "outputs": [
        {
          "output_type": "stream",
          "name": "stdout",
          "text": [
            "73.91304347826086% of train data has equal or less than 512 tokens\n"
          ]
        }
      ]
    },
    {
      "cell_type": "code",
      "source": [
        "targets = np.zeros((len(IDS),MAX_LEN,15), dtype='int32')\n",
        "for k in range(7):\n",
        "    targets[:,:,2*k] = targets_b[k]\n",
        "    targets[:,:,2*k+1] = targets_i[k]\n",
        "targets[:,:,14] = 1-np.max(targets,axis=-1)"
      ],
      "metadata": {
        "id": "hZjDfpdfwB6p"
      },
      "execution_count": null,
      "outputs": []
    },
    {
      "cell_type": "code",
      "source": [
        "np.random.seed(42)\n",
        "train_idx = np.random.choice(np.arange(len(IDS)),int(0.95*len(IDS)),replace=False)\n",
        "valid_idx = np.setdiff1d(np.arange(len(IDS)),train_idx)\n",
        "np.random.seed(None)\n",
        "print('Train size',len(train_idx),', Valid size',len(valid_idx))"
      ],
      "metadata": {
        "id": "ILNT1MLvwCPm",
        "colab": {
          "base_uri": "https://localhost:8080/"
        },
        "outputId": "b878563a-a930-445b-e6c3-aa33ba1135dc"
      },
      "execution_count": null,
      "outputs": [
        {
          "output_type": "stream",
          "name": "stdout",
          "text": [
            "Train size 14814 , Valid size 780\n"
          ]
        }
      ]
    },
    {
      "cell_type": "markdown",
      "source": [
        "# Pretrained Bert Model"
      ],
      "metadata": {
        "id": "BzlHRrkCu4zz"
      }
    },
    {
      "cell_type": "code",
      "source": [
        "model = keras.models.load_model('/content/drive/MyDrive/Colab Notebooks/Models/model.h5')\n",
        "model.summary()"
      ],
      "metadata": {
        "id": "XLnF_7_SwGiA",
        "colab": {
          "base_uri": "https://localhost:8080/"
        },
        "outputId": "20e07845-e737-4084-e9da-5a35ee423247"
      },
      "execution_count": null,
      "outputs": [
        {
          "output_type": "stream",
          "name": "stdout",
          "text": [
            "WARNING:tensorflow:Error in loading the saved optimizer state. As a result, your model is starting with a freshly initialized optimizer.\n",
            "Model: \"model\"\n",
            "__________________________________________________________________________________________________\n",
            " Layer (type)                   Output Shape         Param #     Connected to                     \n",
            "==================================================================================================\n",
            " inputs (InputLayer)            [(None, 512)]        0           []                               \n",
            "                                                                                                  \n",
            " attention_mask (InputLayer)    [(None, 512)]        0           []                               \n",
            "                                                                                                  \n",
            " bert (TFBertMainLayer)         TFBaseModelOutputWi  108310272   ['inputs[0][0]',                 \n",
            "                                thPoolingAndCrossAt               'attention_mask[0][0]']         \n",
            "                                tentions(last_hidde                                               \n",
            "                                n_state=(None, 512,                                               \n",
            "                                 768),                                                            \n",
            "                                 pooler_output=(Non                                               \n",
            "                                e, 768),                                                          \n",
            "                                 past_key_values=No                                               \n",
            "                                ne, hidden_states=N                                               \n",
            "                                one, attentions=Non                                               \n",
            "                                e, cross_attentions                                               \n",
            "                                =None)                                                            \n",
            "                                                                                                  \n",
            " dense (Dense)                  (None, 512, 512)     393728      ['bert[0][0]']                   \n",
            "                                                                                                  \n",
            " dense_1 (Dense)                (None, 512, 15)      7695        ['dense[0][0]']                  \n",
            "                                                                                                  \n",
            "==================================================================================================\n",
            "Total params: 108,711,695\n",
            "Trainable params: 108,711,695\n",
            "Non-trainable params: 0\n",
            "__________________________________________________________________________________________________\n"
          ]
        }
      ]
    },
    {
      "cell_type": "code",
      "source": [
        "target_map_rev = {0:'Lead', 1:'Position', 2:'Evidence', 3:'Claim', 4:'Concluding Statement',\n",
        "             5:'Counterclaim', 6:'Rebuttal', 7:'blank'}"
      ],
      "metadata": {
        "id": "xL80UT4VwIEW"
      },
      "execution_count": null,
      "outputs": []
    },
    {
      "cell_type": "code",
      "source": [
        "p = model.predict([train_tokens[valid_idx,], train_attention[valid_idx,]], \n",
        "                  batch_size=16, verbose=1)\n",
        "print('OOF predictions shape:',p.shape)\n",
        "oof_preds = np.argmax(p,axis=-1)"
      ],
      "metadata": {
        "id": "RfUHmlHgwJt9"
      },
      "execution_count": null,
      "outputs": []
    },
    {
      "cell_type": "code",
      "source": [
        "def get_preds(dataset='train', verbose=True, text_ids=IDS[valid_idx], preds=oof_preds):\n",
        "    all_predictions = []\n",
        "\n",
        "    for id_num in range(len(preds)):\n",
        "    \n",
        "        # GET ID\n",
        "        if (id_num%100==0)&(verbose): \n",
        "            print(id_num,', ',end='')\n",
        "        n = text_ids[id_num]\n",
        "    \n",
        "        # GET TOKEN POSITIONS IN CHARS\n",
        "        name = f'/content/drive/MyDrive/Colab Notebooks/ori_data/{dataset}/{n}.txt'\n",
        "        txt = open(name, 'r').read()\n",
        "        tokens = tokenizer.encode_plus(txt, max_length=MAX_LEN, padding='max_length',\n",
        "                                   truncation=True, return_offsets_mapping=True)\n",
        "        off = tokens['offset_mapping']\n",
        "    \n",
        "        # GET WORD POSITIONS IN CHARS\n",
        "        w = []\n",
        "        blank = True\n",
        "        for i in range(len(txt)):\n",
        "            if (txt[i]!=' ')&(txt[i]!='\\n')&(txt[i]!='\\xa0')&(txt[i]!='\\x85')&(blank==True):\n",
        "                w.append(i)\n",
        "                blank=False\n",
        "            elif (txt[i]==' ')|(txt[i]=='\\n')|(txt[i]=='\\xa0')|(txt[i]=='\\x85'):\n",
        "                blank=True\n",
        "        w.append(1e6)\n",
        "            \n",
        "        # MAPPING FROM TOKENS TO WORDS\n",
        "        word_map = -1 * np.ones(MAX_LEN,dtype='int32')\n",
        "        w_i = 0\n",
        "        for i in range(len(off)):\n",
        "            if off[i][1]==0: continue\n",
        "            while off[i][0]>=w[w_i+1]: w_i += 1\n",
        "            word_map[i] = int(w_i)\n",
        "        \n",
        "        # CONVERT TOKEN PREDICTIONS INTO WORD LABELS\n",
        "        ### KEY: ###\n",
        "        # 0: LEAD_B, 1: LEAD_I\n",
        "        # 2: POSITION_B, 3: POSITION_I\n",
        "        # 4: EVIDENCE_B, 5: EVIDENCE_I\n",
        "        # 6: CLAIM_B, 7: CLAIM_I\n",
        "        # 8: CONCLUSION_B, 9: CONCLUSION_I\n",
        "        # 10: COUNTERCLAIM_B, 11: COUNTERCLAIM_I\n",
        "        # 12: REBUTTAL_B, 13: REBUTTAL_I\n",
        "        # 14: NOTHING i.e. O\n",
        "        ### NOTE THESE VALUES ARE DIVIDED BY 2 IN NEXT CODE LINE\n",
        "        pred = preds[id_num,]/2.0\n",
        "    \n",
        "        i = 0\n",
        "        while i<MAX_LEN:\n",
        "            prediction = []\n",
        "            start = pred[i]\n",
        "            if start in [0,1,2,3,4,5,6,7]:\n",
        "                prediction.append(word_map[i])\n",
        "                i += 1\n",
        "                if i>=MAX_LEN: break\n",
        "                while pred[i]==start+0.5:\n",
        "                    if not word_map[i] in prediction:\n",
        "                        prediction.append(word_map[i])\n",
        "                    i += 1\n",
        "                    if i>=MAX_LEN: break\n",
        "            else:\n",
        "                i += 1\n",
        "            prediction = [x for x in prediction if x!=-1]\n",
        "            if len(prediction)>4:\n",
        "                all_predictions.append( (n, target_map_rev[int(start)], \n",
        "                                ' '.join([str(x) for x in prediction]) ) )\n",
        "                \n",
        "    # MAKE DATAFRAME\n",
        "    df = pd.DataFrame(all_predictions)\n",
        "    df.columns = ['id','class','predictionstring']\n",
        "    \n",
        "    return df"
      ],
      "metadata": {
        "id": "fcbRvGRswLiI"
      },
      "execution_count": null,
      "outputs": []
    },
    {
      "cell_type": "code",
      "source": [
        "oof = get_preds( dataset='train', verbose=True, text_ids=IDS[valid_idx])\n",
        "oof.head()"
      ],
      "metadata": {
        "id": "lZThN4fLwOfW"
      },
      "execution_count": null,
      "outputs": []
    },
    {
      "cell_type": "markdown",
      "source": [
        "# Metrics"
      ],
      "metadata": {
        "id": "PYmkmMOvvNKR"
      }
    },
    {
      "cell_type": "code",
      "source": [
        "def calc_overlap(row):\n",
        "    \"\"\"\n",
        "    Calculates the overlap between prediction and\n",
        "    ground truth and overlap percentages used for determining\n",
        "    true positives.\n",
        "    \"\"\"\n",
        "    set_pred = set(row.predictionstring_pred.split(' '))\n",
        "    set_gt = set(row.predictionstring_gt.split(' '))\n",
        "    # Length of each and intersection\n",
        "    len_gt = len(set_gt)\n",
        "    len_pred = len(set_pred)\n",
        "    inter = len(set_gt.intersection(set_pred))\n",
        "    overlap_1 = inter / len_gt\n",
        "    overlap_2 = inter/ len_pred\n",
        "    return [overlap_1, overlap_2]\n",
        "\n",
        "\n",
        "def score_feedback_comp(pred_df, gt_df):\n",
        "    \"\"\"\n",
        "    A function that scores for the kaggle\n",
        "        Student Writing Competition\n",
        "        \n",
        "    Uses the steps in the evaluation page here:\n",
        "        https://www.kaggle.com/c/feedback-prize-2021/overview/evaluation\n",
        "    \"\"\"\n",
        "    gt_df = gt_df[['id','discourse_type','predictionstring']] \\\n",
        "        .reset_index(drop=True).copy()\n",
        "    pred_df = pred_df[['id','class','predictionstring']] \\\n",
        "        .reset_index(drop=True).copy()\n",
        "    pred_df['pred_id'] = pred_df.index\n",
        "    gt_df['gt_id'] = gt_df.index\n",
        "    # Step 1. all ground truths and predictions for a given class are compared.\n",
        "    joined = pred_df.merge(gt_df,\n",
        "                           left_on=['id','class'],\n",
        "                           right_on=['id','discourse_type'],\n",
        "                           how='outer',\n",
        "                           suffixes=('_pred','_gt')\n",
        "                          )\n",
        "    joined['predictionstring_gt'] = joined['predictionstring_gt'].fillna(' ')\n",
        "    joined['predictionstring_pred'] = joined['predictionstring_pred'].fillna(' ')\n",
        "\n",
        "    joined['overlaps'] = joined.apply(calc_overlap, axis=1)\n",
        "\n",
        "    # 2. If the overlap between the ground truth and prediction is >= 0.5, \n",
        "    # and the overlap between the prediction and the ground truth >= 0.5,\n",
        "    # the prediction is a match and considered a true positive.\n",
        "    # If multiple matches exist, the match with the highest pair of overlaps is taken.\n",
        "    joined['overlap1'] = joined['overlaps'].apply(lambda x: eval(str(x))[0])\n",
        "    joined['overlap2'] = joined['overlaps'].apply(lambda x: eval(str(x))[1])\n",
        "\n",
        "\n",
        "    joined['potential_TP'] = (joined['overlap1'] >= 0.5) & (joined['overlap2'] >= 0.5)\n",
        "    joined['max_overlap'] = joined[['overlap1','overlap2']].max(axis=1)\n",
        "    tp_pred_ids = joined.query('potential_TP') \\\n",
        "        .sort_values('max_overlap', ascending=False) \\\n",
        "        .groupby(['id','predictionstring_gt']).first()['pred_id'].values\n",
        "\n",
        "    # 3. Any unmatched ground truths are false negatives\n",
        "    # and any unmatched predictions are false positives.\n",
        "    fp_pred_ids = [p for p in joined['pred_id'].unique() if p not in tp_pred_ids]\n",
        "\n",
        "    matched_gt_ids = joined.query('potential_TP')['gt_id'].unique()\n",
        "    unmatched_gt_ids = [c for c in joined['gt_id'].unique() if c not in matched_gt_ids]\n",
        "\n",
        "    # Get numbers of each type\n",
        "    TP = len(tp_pred_ids)\n",
        "    FP = len(fp_pred_ids)\n",
        "    FN = len(unmatched_gt_ids)\n",
        "    #calc microf1\n",
        "    my_f1_score = TP / (TP + 0.5*(FP+FN))\n",
        "    return my_f1_score"
      ],
      "metadata": {
        "id": "jpclRksRwQ3K"
      },
      "execution_count": null,
      "outputs": []
    },
    {
      "cell_type": "code",
      "source": [
        "valid = train.loc[train['id'].isin(IDS[valid_idx])]"
      ],
      "metadata": {
        "id": "CWsnRI2-wTTJ"
      },
      "execution_count": null,
      "outputs": []
    },
    {
      "cell_type": "code",
      "source": [
        "oof['len'] = oof['predictionstring'].apply(lambda x:len(x.split()))\n",
        "train['len'] = train['predictionstring'].apply(lambda x:len(x.split()))"
      ],
      "metadata": {
        "id": "csUGSm6BwUsW"
      },
      "execution_count": null,
      "outputs": []
    },
    {
      "cell_type": "code",
      "source": [
        "train.groupby('discourse_type')['len'].describe(percentiles = [0.02, 0.25, 0.50, 0.75, 0.98])"
      ],
      "metadata": {
        "id": "QXb3GK7uwWEy",
        "colab": {
          "base_uri": "https://localhost:8080/",
          "height": 300
        },
        "outputId": "9aa091e8-8321-472c-cbff-8d11a6e0d11f"
      },
      "execution_count": null,
      "outputs": [
        {
          "output_type": "execute_result",
          "data": {
            "text/html": [
              "\n",
              "  <div id=\"df-64eff6f5-89c9-4ee6-846f-b4dbdc21a0f1\">\n",
              "    <div class=\"colab-df-container\">\n",
              "      <div>\n",
              "<style scoped>\n",
              "    .dataframe tbody tr th:only-of-type {\n",
              "        vertical-align: middle;\n",
              "    }\n",
              "\n",
              "    .dataframe tbody tr th {\n",
              "        vertical-align: top;\n",
              "    }\n",
              "\n",
              "    .dataframe thead th {\n",
              "        text-align: right;\n",
              "    }\n",
              "</style>\n",
              "<table border=\"1\" class=\"dataframe\">\n",
              "  <thead>\n",
              "    <tr style=\"text-align: right;\">\n",
              "      <th></th>\n",
              "      <th>count</th>\n",
              "      <th>mean</th>\n",
              "      <th>std</th>\n",
              "      <th>min</th>\n",
              "      <th>2%</th>\n",
              "      <th>25%</th>\n",
              "      <th>50%</th>\n",
              "      <th>75%</th>\n",
              "      <th>98%</th>\n",
              "      <th>max</th>\n",
              "    </tr>\n",
              "    <tr>\n",
              "      <th>discourse_type</th>\n",
              "      <th></th>\n",
              "      <th></th>\n",
              "      <th></th>\n",
              "      <th></th>\n",
              "      <th></th>\n",
              "      <th></th>\n",
              "      <th></th>\n",
              "      <th></th>\n",
              "      <th></th>\n",
              "      <th></th>\n",
              "    </tr>\n",
              "  </thead>\n",
              "  <tbody>\n",
              "    <tr>\n",
              "      <th>Claim</th>\n",
              "      <td>50208.0</td>\n",
              "      <td>17.423359</td>\n",
              "      <td>10.518978</td>\n",
              "      <td>1.0</td>\n",
              "      <td>3.0</td>\n",
              "      <td>10.0</td>\n",
              "      <td>16.0</td>\n",
              "      <td>23.0</td>\n",
              "      <td>45.00</td>\n",
              "      <td>146.0</td>\n",
              "    </tr>\n",
              "    <tr>\n",
              "      <th>Concluding Statement</th>\n",
              "      <td>13505.0</td>\n",
              "      <td>61.301148</td>\n",
              "      <td>34.769977</td>\n",
              "      <td>2.0</td>\n",
              "      <td>11.0</td>\n",
              "      <td>36.0</td>\n",
              "      <td>56.0</td>\n",
              "      <td>80.0</td>\n",
              "      <td>149.00</td>\n",
              "      <td>440.0</td>\n",
              "    </tr>\n",
              "    <tr>\n",
              "      <th>Counterclaim</th>\n",
              "      <td>5817.0</td>\n",
              "      <td>24.037476</td>\n",
              "      <td>16.091799</td>\n",
              "      <td>1.0</td>\n",
              "      <td>6.0</td>\n",
              "      <td>14.0</td>\n",
              "      <td>20.0</td>\n",
              "      <td>29.0</td>\n",
              "      <td>68.00</td>\n",
              "      <td>215.0</td>\n",
              "    </tr>\n",
              "    <tr>\n",
              "      <th>Evidence</th>\n",
              "      <td>45702.0</td>\n",
              "      <td>77.366680</td>\n",
              "      <td>52.454848</td>\n",
              "      <td>2.0</td>\n",
              "      <td>14.0</td>\n",
              "      <td>41.0</td>\n",
              "      <td>66.0</td>\n",
              "      <td>100.0</td>\n",
              "      <td>221.00</td>\n",
              "      <td>836.0</td>\n",
              "    </tr>\n",
              "    <tr>\n",
              "      <th>Lead</th>\n",
              "      <td>9305.0</td>\n",
              "      <td>51.949704</td>\n",
              "      <td>35.187840</td>\n",
              "      <td>1.0</td>\n",
              "      <td>9.0</td>\n",
              "      <td>27.0</td>\n",
              "      <td>45.0</td>\n",
              "      <td>69.0</td>\n",
              "      <td>145.00</td>\n",
              "      <td>542.0</td>\n",
              "    </tr>\n",
              "    <tr>\n",
              "      <th>Position</th>\n",
              "      <td>15419.0</td>\n",
              "      <td>18.247681</td>\n",
              "      <td>10.672725</td>\n",
              "      <td>1.0</td>\n",
              "      <td>5.0</td>\n",
              "      <td>11.0</td>\n",
              "      <td>16.0</td>\n",
              "      <td>23.0</td>\n",
              "      <td>47.00</td>\n",
              "      <td>141.0</td>\n",
              "    </tr>\n",
              "    <tr>\n",
              "      <th>Rebuttal</th>\n",
              "      <td>4337.0</td>\n",
              "      <td>28.093844</td>\n",
              "      <td>20.563402</td>\n",
              "      <td>2.0</td>\n",
              "      <td>5.0</td>\n",
              "      <td>14.0</td>\n",
              "      <td>23.0</td>\n",
              "      <td>36.0</td>\n",
              "      <td>87.28</td>\n",
              "      <td>279.0</td>\n",
              "    </tr>\n",
              "  </tbody>\n",
              "</table>\n",
              "</div>\n",
              "      <button class=\"colab-df-convert\" onclick=\"convertToInteractive('df-64eff6f5-89c9-4ee6-846f-b4dbdc21a0f1')\"\n",
              "              title=\"Convert this dataframe to an interactive table.\"\n",
              "              style=\"display:none;\">\n",
              "        \n",
              "  <svg xmlns=\"http://www.w3.org/2000/svg\" height=\"24px\"viewBox=\"0 0 24 24\"\n",
              "       width=\"24px\">\n",
              "    <path d=\"M0 0h24v24H0V0z\" fill=\"none\"/>\n",
              "    <path d=\"M18.56 5.44l.94 2.06.94-2.06 2.06-.94-2.06-.94-.94-2.06-.94 2.06-2.06.94zm-11 1L8.5 8.5l.94-2.06 2.06-.94-2.06-.94L8.5 2.5l-.94 2.06-2.06.94zm10 10l.94 2.06.94-2.06 2.06-.94-2.06-.94-.94-2.06-.94 2.06-2.06.94z\"/><path d=\"M17.41 7.96l-1.37-1.37c-.4-.4-.92-.59-1.43-.59-.52 0-1.04.2-1.43.59L10.3 9.45l-7.72 7.72c-.78.78-.78 2.05 0 2.83L4 21.41c.39.39.9.59 1.41.59.51 0 1.02-.2 1.41-.59l7.78-7.78 2.81-2.81c.8-.78.8-2.07 0-2.86zM5.41 20L4 18.59l7.72-7.72 1.47 1.35L5.41 20z\"/>\n",
              "  </svg>\n",
              "      </button>\n",
              "      \n",
              "  <style>\n",
              "    .colab-df-container {\n",
              "      display:flex;\n",
              "      flex-wrap:wrap;\n",
              "      gap: 12px;\n",
              "    }\n",
              "\n",
              "    .colab-df-convert {\n",
              "      background-color: #E8F0FE;\n",
              "      border: none;\n",
              "      border-radius: 50%;\n",
              "      cursor: pointer;\n",
              "      display: none;\n",
              "      fill: #1967D2;\n",
              "      height: 32px;\n",
              "      padding: 0 0 0 0;\n",
              "      width: 32px;\n",
              "    }\n",
              "\n",
              "    .colab-df-convert:hover {\n",
              "      background-color: #E2EBFA;\n",
              "      box-shadow: 0px 1px 2px rgba(60, 64, 67, 0.3), 0px 1px 3px 1px rgba(60, 64, 67, 0.15);\n",
              "      fill: #174EA6;\n",
              "    }\n",
              "\n",
              "    [theme=dark] .colab-df-convert {\n",
              "      background-color: #3B4455;\n",
              "      fill: #D2E3FC;\n",
              "    }\n",
              "\n",
              "    [theme=dark] .colab-df-convert:hover {\n",
              "      background-color: #434B5C;\n",
              "      box-shadow: 0px 1px 3px 1px rgba(0, 0, 0, 0.15);\n",
              "      filter: drop-shadow(0px 1px 2px rgba(0, 0, 0, 0.3));\n",
              "      fill: #FFFFFF;\n",
              "    }\n",
              "  </style>\n",
              "\n",
              "      <script>\n",
              "        const buttonEl =\n",
              "          document.querySelector('#df-64eff6f5-89c9-4ee6-846f-b4dbdc21a0f1 button.colab-df-convert');\n",
              "        buttonEl.style.display =\n",
              "          google.colab.kernel.accessAllowed ? 'block' : 'none';\n",
              "\n",
              "        async function convertToInteractive(key) {\n",
              "          const element = document.querySelector('#df-64eff6f5-89c9-4ee6-846f-b4dbdc21a0f1');\n",
              "          const dataTable =\n",
              "            await google.colab.kernel.invokeFunction('convertToInteractive',\n",
              "                                                     [key], {});\n",
              "          if (!dataTable) return;\n",
              "\n",
              "          const docLinkHtml = 'Like what you see? Visit the ' +\n",
              "            '<a target=\"_blank\" href=https://colab.research.google.com/notebooks/data_table.ipynb>data table notebook</a>'\n",
              "            + ' to learn more about interactive tables.';\n",
              "          element.innerHTML = '';\n",
              "          dataTable['output_type'] = 'display_data';\n",
              "          await google.colab.output.renderOutput(dataTable, element);\n",
              "          const docLink = document.createElement('div');\n",
              "          docLink.innerHTML = docLinkHtml;\n",
              "          element.appendChild(docLink);\n",
              "        }\n",
              "      </script>\n",
              "    </div>\n",
              "  </div>\n",
              "  "
            ],
            "text/plain": [
              "                        count       mean        std  ...    75%     98%    max\n",
              "discourse_type                                       ...                      \n",
              "Claim                 50208.0  17.423359  10.518978  ...   23.0   45.00  146.0\n",
              "Concluding Statement  13505.0  61.301148  34.769977  ...   80.0  149.00  440.0\n",
              "Counterclaim           5817.0  24.037476  16.091799  ...   29.0   68.00  215.0\n",
              "Evidence              45702.0  77.366680  52.454848  ...  100.0  221.00  836.0\n",
              "Lead                   9305.0  51.949704  35.187840  ...   69.0  145.00  542.0\n",
              "Position              15419.0  18.247681  10.672725  ...   23.0   47.00  141.0\n",
              "Rebuttal               4337.0  28.093844  20.563402  ...   36.0   87.28  279.0\n",
              "\n",
              "[7 rows x 10 columns]"
            ]
          },
          "metadata": {},
          "execution_count": 16
        }
      ]
    },
    {
      "cell_type": "code",
      "source": [
        "map_clip = {'Lead':9, 'Position':5, 'Evidence':14, 'Claim':3, 'Concluding Statement':11,\n",
        "             'Counterclaim':6, 'Rebuttal':4}\n",
        "\n",
        "def threshold(df):\n",
        "    df = df.copy()\n",
        "    for key, value in map_clip.items():\n",
        "      tmp = df.loc[df['class']==key,'len']\n",
        "      for i in range(len(tmp)):\n",
        "        if tmp.iloc[i] < value: \n",
        "          index = df.loc[df['class']==key].query(f'len<{value}').index\n",
        "          df.drop(index, inpla ce = True)\n",
        "    return df\n",
        "\n",
        "oof_2 = threshold(oof)\n",
        "oof_2.head()"
      ],
      "metadata": {
        "id": "shoR-48bwYUJ",
        "colab": {
          "base_uri": "https://localhost:8080/",
          "height": 206
        },
        "outputId": "045f8ef3-5ba1-4c94-feaf-b01b2ab69466"
      },
      "execution_count": null,
      "outputs": [
        {
          "output_type": "execute_result",
          "data": {
            "text/html": [
              "\n",
              "  <div id=\"df-634b899e-0d94-4aed-a061-c2c0b89d791b\">\n",
              "    <div class=\"colab-df-container\">\n",
              "      <div>\n",
              "<style scoped>\n",
              "    .dataframe tbody tr th:only-of-type {\n",
              "        vertical-align: middle;\n",
              "    }\n",
              "\n",
              "    .dataframe tbody tr th {\n",
              "        vertical-align: top;\n",
              "    }\n",
              "\n",
              "    .dataframe thead th {\n",
              "        text-align: right;\n",
              "    }\n",
              "</style>\n",
              "<table border=\"1\" class=\"dataframe\">\n",
              "  <thead>\n",
              "    <tr style=\"text-align: right;\">\n",
              "      <th></th>\n",
              "      <th>id</th>\n",
              "      <th>class</th>\n",
              "      <th>predictionstring</th>\n",
              "      <th>len</th>\n",
              "    </tr>\n",
              "  </thead>\n",
              "  <tbody>\n",
              "    <tr>\n",
              "      <th>0</th>\n",
              "      <td>50B3435E475B</td>\n",
              "      <td>Lead</td>\n",
              "      <td>3 4 5 6 7 8 9 10 11 12 13 14 15 16 17 18 19 20...</td>\n",
              "      <td>60</td>\n",
              "    </tr>\n",
              "    <tr>\n",
              "      <th>1</th>\n",
              "      <td>50B3435E475B</td>\n",
              "      <td>Position</td>\n",
              "      <td>63 64 65 66 67 68 69 70 71 72 73 74 75</td>\n",
              "      <td>13</td>\n",
              "    </tr>\n",
              "    <tr>\n",
              "      <th>2</th>\n",
              "      <td>50B3435E475B</td>\n",
              "      <td>Claim</td>\n",
              "      <td>76 77 78 79 80 81 82 83 84 85 86 87</td>\n",
              "      <td>12</td>\n",
              "    </tr>\n",
              "    <tr>\n",
              "      <th>3</th>\n",
              "      <td>50B3435E475B</td>\n",
              "      <td>Evidence</td>\n",
              "      <td>88 89 90 91 92 93 94 95 96 97 98 99 100 101 10...</td>\n",
              "      <td>91</td>\n",
              "    </tr>\n",
              "    <tr>\n",
              "      <th>4</th>\n",
              "      <td>50B3435E475B</td>\n",
              "      <td>Claim</td>\n",
              "      <td>179 180 181 182 183 184 185</td>\n",
              "      <td>7</td>\n",
              "    </tr>\n",
              "  </tbody>\n",
              "</table>\n",
              "</div>\n",
              "      <button class=\"colab-df-convert\" onclick=\"convertToInteractive('df-634b899e-0d94-4aed-a061-c2c0b89d791b')\"\n",
              "              title=\"Convert this dataframe to an interactive table.\"\n",
              "              style=\"display:none;\">\n",
              "        \n",
              "  <svg xmlns=\"http://www.w3.org/2000/svg\" height=\"24px\"viewBox=\"0 0 24 24\"\n",
              "       width=\"24px\">\n",
              "    <path d=\"M0 0h24v24H0V0z\" fill=\"none\"/>\n",
              "    <path d=\"M18.56 5.44l.94 2.06.94-2.06 2.06-.94-2.06-.94-.94-2.06-.94 2.06-2.06.94zm-11 1L8.5 8.5l.94-2.06 2.06-.94-2.06-.94L8.5 2.5l-.94 2.06-2.06.94zm10 10l.94 2.06.94-2.06 2.06-.94-2.06-.94-.94-2.06-.94 2.06-2.06.94z\"/><path d=\"M17.41 7.96l-1.37-1.37c-.4-.4-.92-.59-1.43-.59-.52 0-1.04.2-1.43.59L10.3 9.45l-7.72 7.72c-.78.78-.78 2.05 0 2.83L4 21.41c.39.39.9.59 1.41.59.51 0 1.02-.2 1.41-.59l7.78-7.78 2.81-2.81c.8-.78.8-2.07 0-2.86zM5.41 20L4 18.59l7.72-7.72 1.47 1.35L5.41 20z\"/>\n",
              "  </svg>\n",
              "      </button>\n",
              "      \n",
              "  <style>\n",
              "    .colab-df-container {\n",
              "      display:flex;\n",
              "      flex-wrap:wrap;\n",
              "      gap: 12px;\n",
              "    }\n",
              "\n",
              "    .colab-df-convert {\n",
              "      background-color: #E8F0FE;\n",
              "      border: none;\n",
              "      border-radius: 50%;\n",
              "      cursor: pointer;\n",
              "      display: none;\n",
              "      fill: #1967D2;\n",
              "      height: 32px;\n",
              "      padding: 0 0 0 0;\n",
              "      width: 32px;\n",
              "    }\n",
              "\n",
              "    .colab-df-convert:hover {\n",
              "      background-color: #E2EBFA;\n",
              "      box-shadow: 0px 1px 2px rgba(60, 64, 67, 0.3), 0px 1px 3px 1px rgba(60, 64, 67, 0.15);\n",
              "      fill: #174EA6;\n",
              "    }\n",
              "\n",
              "    [theme=dark] .colab-df-convert {\n",
              "      background-color: #3B4455;\n",
              "      fill: #D2E3FC;\n",
              "    }\n",
              "\n",
              "    [theme=dark] .colab-df-convert:hover {\n",
              "      background-color: #434B5C;\n",
              "      box-shadow: 0px 1px 3px 1px rgba(0, 0, 0, 0.15);\n",
              "      filter: drop-shadow(0px 1px 2px rgba(0, 0, 0, 0.3));\n",
              "      fill: #FFFFFF;\n",
              "    }\n",
              "  </style>\n",
              "\n",
              "      <script>\n",
              "        const buttonEl =\n",
              "          document.querySelector('#df-634b899e-0d94-4aed-a061-c2c0b89d791b button.colab-df-convert');\n",
              "        buttonEl.style.display =\n",
              "          google.colab.kernel.accessAllowed ? 'block' : 'none';\n",
              "\n",
              "        async function convertToInteractive(key) {\n",
              "          const element = document.querySelector('#df-634b899e-0d94-4aed-a061-c2c0b89d791b');\n",
              "          const dataTable =\n",
              "            await google.colab.kernel.invokeFunction('convertToInteractive',\n",
              "                                                     [key], {});\n",
              "          if (!dataTable) return;\n",
              "\n",
              "          const docLinkHtml = 'Like what you see? Visit the ' +\n",
              "            '<a target=\"_blank\" href=https://colab.research.google.com/notebooks/data_table.ipynb>data table notebook</a>'\n",
              "            + ' to learn more about interactive tables.';\n",
              "          element.innerHTML = '';\n",
              "          dataTable['output_type'] = 'display_data';\n",
              "          await google.colab.output.renderOutput(dataTable, element);\n",
              "          const docLink = document.createElement('div');\n",
              "          docLink.innerHTML = docLinkHtml;\n",
              "          element.appendChild(docLink);\n",
              "        }\n",
              "      </script>\n",
              "    </div>\n",
              "  </div>\n",
              "  "
            ],
            "text/plain": [
              "             id  ... len\n",
              "0  50B3435E475B  ...  60\n",
              "1  50B3435E475B  ...  13\n",
              "2  50B3435E475B  ...  12\n",
              "3  50B3435E475B  ...  91\n",
              "4  50B3435E475B  ...   7\n",
              "\n",
              "[5 rows x 4 columns]"
            ]
          },
          "metadata": {},
          "execution_count": 43
        }
      ]
    },
    {
      "cell_type": "markdown",
      "source": [
        "# Result"
      ],
      "metadata": {
        "id": "kLrMihuqvXK-"
      }
    },
    {
      "cell_type": "code",
      "source": [
        "f1s = []\n",
        "CLASSES = oof['class'].unique()\n",
        "for c in CLASSES:\n",
        "    pred_df = oof.loc[oof['class']==c].copy()\n",
        "    gt_df = valid.loc[valid['discourse_type']==c].copy()\n",
        "    f1 = score_feedback_comp(pred_df, gt_df)\n",
        "    print(c,f1)\n",
        "    f1s.append(f1)\n",
        "print()\n",
        "print('Overall_before',np.mean(f1s))"
      ],
      "metadata": {
        "id": "iKAQrzp3wass",
        "colab": {
          "base_uri": "https://localhost:8080/"
        },
        "outputId": "46ab2a68-10b7-472d-84d8-81ab6fcd7077"
      },
      "execution_count": null,
      "outputs": [
        {
          "output_type": "stream",
          "name": "stdout",
          "text": [
            "Lead 0.7520564042303173\n",
            "Position 0.6377224199288256\n",
            "Claim 0.46470289487049266\n",
            "Evidence 0.48535339962375706\n",
            "Counterclaim 0.3161904761904762\n",
            "Rebuttal 0.1398176291793313\n",
            "Concluding Statement 0.42412451361867703\n",
            "\n",
            "Overall_before 0.4599953910916967\n"
          ]
        }
      ]
    },
    {
      "cell_type": "code",
      "source": [
        "f1s = []\n",
        "CLASSES = oof['class'].unique()\n",
        "for c in CLASSES:\n",
        "    pred_df = oof_2.loc[oof_2['class']==c].copy()\n",
        "    gt_df = valid.loc[valid['discourse_type']==c].copy()\n",
        "    f1 = score_feedback_comp(pred_df, gt_df)\n",
        "    print(c,f1)\n",
        "    f1s.append(f1)\n",
        "print()\n",
        "print('Overall_after',np.mean(f1s))"
      ],
      "metadata": {
        "id": "-grb4__wwcnv",
        "colab": {
          "base_uri": "https://localhost:8080/"
        },
        "outputId": "690fd5e3-1044-4bff-922e-be4c1a949217"
      },
      "execution_count": null,
      "outputs": [
        {
          "output_type": "stream",
          "name": "stdout",
          "text": [
            "Lead 0.7565632458233891\n",
            "Position 0.6377224199288256\n",
            "Claim 0.46470289487049266\n",
            "Evidence 0.49958088851634536\n",
            "Counterclaim 0.3088803088803089\n",
            "Rebuttal 0.1398176291793313\n",
            "Concluding Statement 0.4311377245508982\n",
            "\n",
            "Overall_after 0.46262930167851296\n"
          ]
        }
      ]
    },
    {
      "cell_type": "markdown",
      "source": [
        "#Visualization"
      ],
      "metadata": {
        "id": "z-Xksi2_y68R"
      }
    }
  ]
}