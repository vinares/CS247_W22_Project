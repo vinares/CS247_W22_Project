{
  "nbformat": 4,
  "nbformat_minor": 0,
  "metadata": {
    "colab": {
      "name": "LSTM.ipynb",
      "provenance": [],
      "machine_shape": "hm",
      "background_execution": "on"
    },
    "kernelspec": {
      "name": "python3",
      "display_name": "Python 3"
    },
    "language_info": {
      "name": "python"
    },
    "accelerator": "GPU"
  },
  "cells": [
    {
      "cell_type": "code",
      "execution_count": null,
      "metadata": {
        "id": "m3G6M6ESY2lM"
      },
      "outputs": [],
      "source": [
        "import numpy as np \n",
        "import pandas as pd\n",
        "import matplotlib.pyplot as plt\n",
        "import seaborn as sns\n",
        "from keras.preprocessing.text import Tokenizer\n",
        "from keras.preprocessing.sequence import pad_sequences\n",
        "from keras.models import Sequential, save_model, load_model\n",
        "from keras.layers import Dense, Embedding, LSTM, SpatialDropout1D ,LSTM ,TimeDistributed\n",
        "from sklearn.model_selection import train_test_split\n",
        "from keras.utils.np_utils import to_categorical\n",
        "from keras.callbacks import EarlyStopping , ModelCheckpoint\n",
        "from keras.layers import Dropout\n",
        "import re\n",
        "import os"
      ]
    },
    {
      "cell_type": "code",
      "source": [
        "from google.colab import drive\n",
        "drive.mount('/content/drive')"
      ],
      "metadata": {
        "colab": {
          "base_uri": "https://localhost:8080/"
        },
        "id": "UMjibLd9yUkr",
        "outputId": "0c4eef24-a54f-429a-bd26-a73392caf8a3"
      },
      "execution_count": null,
      "outputs": [
        {
          "output_type": "stream",
          "name": "stdout",
          "text": [
            "Drive already mounted at /content/drive; to attempt to forcibly remount, call drive.mount(\"/content/drive\", force_remount=True).\n"
          ]
        }
      ]
    },
    {
      "cell_type": "code",
      "source": [
        "import pandas as pd \n",
        "train = pd.read_csv(\"/content/drive/MyDrive/Colab Notebooks/ori_data/train.csv\")\n"
      ],
      "metadata": {
        "id": "NFdOPRA-aCQI"
      },
      "execution_count": null,
      "outputs": []
    },
    {
      "cell_type": "markdown",
      "source": [
        "# Load Data From train.csv"
      ],
      "metadata": {
        "id": "fiZ6SobT7Tjj"
      }
    },
    {
      "cell_type": "code",
      "source": [
        "train.info()"
      ],
      "metadata": {
        "id": "Zr6PN_qnZ-ol",
        "colab": {
          "base_uri": "https://localhost:8080/"
        },
        "outputId": "0b741151-f8d2-49e4-fa40-5ba88666b036"
      },
      "execution_count": null,
      "outputs": [
        {
          "output_type": "stream",
          "name": "stdout",
          "text": [
            "<class 'pandas.core.frame.DataFrame'>\n",
            "RangeIndex: 144293 entries, 0 to 144292\n",
            "Data columns (total 8 columns):\n",
            " #   Column              Non-Null Count   Dtype  \n",
            "---  ------              --------------   -----  \n",
            " 0   id                  144293 non-null  object \n",
            " 1   discourse_id        144293 non-null  float64\n",
            " 2   discourse_start     144293 non-null  float64\n",
            " 3   discourse_end       144293 non-null  float64\n",
            " 4   discourse_text      144293 non-null  object \n",
            " 5   discourse_type      144293 non-null  object \n",
            " 6   discourse_type_num  144293 non-null  object \n",
            " 7   predictionstring    144293 non-null  object \n",
            "dtypes: float64(3), object(5)\n",
            "memory usage: 8.8+ MB\n"
          ]
        }
      ]
    },
    {
      "cell_type": "code",
      "source": [
        "train.discourse_type.value_counts()"
      ],
      "metadata": {
        "colab": {
          "base_uri": "https://localhost:8080/"
        },
        "id": "erjJBHXybuGh",
        "outputId": "4774e926-03c2-46e2-b87b-306bd1051b2d"
      },
      "execution_count": null,
      "outputs": [
        {
          "output_type": "execute_result",
          "data": {
            "text/plain": [
              "Claim                   50208\n",
              "Evidence                45702\n",
              "Position                15419\n",
              "Concluding Statement    13505\n",
              "Lead                     9305\n",
              "Counterclaim             5817\n",
              "Rebuttal                 4337\n",
              "Name: discourse_type, dtype: int64"
            ]
          },
          "metadata": {},
          "execution_count": 12
        }
      ]
    },
    {
      "cell_type": "code",
      "source": [
        "import re\n",
        "STOPWORDS = [ \"a\", \"about\", \"above\", \"after\", \"again\", \"all\", \"am\", \"an\", \"and\", \"any\", \"are\", \"as\", \"at\", \"be\", \"because\", \"been\", \"before\", \"being\", \"below\", \"between\", \"both\", \"but\", \"by\", \"could\", \"did\", \"do\", \"does\", \"doing\", \"down\", \"during\", \"each\", \"few\", \"for\", \"from\", \"further\", \"had\", \"has\", \"have\", \"having\", \"he\", \"he'd\", \"he'll\", \"he's\", \"her\", \"here\", \"here's\", \"hers\", \"herself\", \"him\", \"himself\", \"his\", \"how\", \"how's\", \"i\", \"i'd\", \"i'll\", \"i'm\", \"i've\", \"if\", \"in\", \"into\", \"is\", \"it\", \"it's\", \"its\", \"itself\", \"let's\", \"me\", \"more\", \"most\", \"my\", \"myself\", \"nor\", \"of\", \"on\", \"once\", \"only\", \"or\", \"other\", \"ought\", \"our\", \"ours\", \"ourselves\", \"out\", \"over\", \"own\", \"same\", \"she\", \"she'd\", \"she'll\", \"she's\", \"should\", \"so\", \"some\", \"such\", \"than\", \"that\", \"that's\", \"the\", \"their\", \"theirs\", \"them\", \"themselves\", \"then\", \"there\", \"there's\", \"these\", \"they\", \"they'd\", \"they'll\", \"they're\", \"they've\", \"this\", \"those\", \"through\", \"to\", \"too\", \"under\", \"until\", \"up\", \"very\", \"was\", \"we\", \"we'd\", \"we'll\", \"we're\", \"we've\", \"were\", \"what\", \"what's\", \"when\", \"when's\", \"where\", \"where's\", \"which\", \"while\", \"who\", \"who's\", \"whom\", \"why\", \"why's\", \"with\", \"would\", \"you\", \"you'd\", \"you'll\", \"you're\", \"you've\", \"your\", \"yours\", \"yourself\", \"yourselves\" ]\n",
        "train = train.reset_index(drop=True)\n",
        "REPLACE_BY_SPACE_RE = re.compile('[/(){}\\[\\]\\|@,;]')\n",
        "BAD_SYMBOLS_RE = re.compile('[^0-9a-z #+_]')\n",
        "\n",
        "\n",
        "def clean_text(text):\n",
        "    \"\"\"\n",
        "        text: a string\n",
        "        \n",
        "        return: modified initial string\n",
        "    \"\"\"\n",
        "    text = text.lower() # lowercase text\n",
        "    text = REPLACE_BY_SPACE_RE.sub(' ', text) # replace REPLACE_BY_SPACE_RE symbols by space in text. substitute the matched string in REPLACE_BY_SPACE_RE with space.\n",
        "    text = BAD_SYMBOLS_RE.sub('', text) # remove symbols which are in BAD_SYMBOLS_RE from text. substitute the matched string in BAD_SYMBOLS_RE with nothing. \n",
        "    text = text.replace('x', '')\n",
        "#    text = re.sub(r'\\W+', '', text)\n",
        "    text = ' '.join(word for word in text.split() if word not in STOPWORDS) # remove stopwords from text\n",
        "    return text\n",
        "train['discourse_text'] = train['discourse_text'].apply(clean_text)\n",
        "train['discourse_text'] = train['discourse_text'].str.replace('\\d+', '')"
      ],
      "metadata": {
        "id": "elQF4aiObyTC",
        "colab": {
          "base_uri": "https://localhost:8080/"
        },
        "outputId": "62589e38-1a98-43f8-f323-fb974f64d627"
      },
      "execution_count": null,
      "outputs": [
        {
          "output_type": "stream",
          "name": "stderr",
          "text": [
            "/usr/local/lib/python3.7/dist-packages/ipykernel_launcher.py:22: FutureWarning: The default value of regex will change from True to False in a future version.\n"
          ]
        }
      ]
    },
    {
      "cell_type": "code",
      "source": [
        "lens_list = [len(i.split()) for i in train['discourse_text'] ]\n",
        "max_length = max(lens_list)\n",
        "max_ind =lens_list.index(max_length)\n",
        "print('index of maximum lenght(longer sentence): ' ,max_ind )\n",
        "print('maximum lenght is : ', max_length) "
      ],
      "metadata": {
        "colab": {
          "base_uri": "https://localhost:8080/"
        },
        "id": "smiqGJBubyOc",
        "outputId": "9a88ad03-e1cd-4485-999e-bdee8d83c97f"
      },
      "execution_count": null,
      "outputs": [
        {
          "output_type": "stream",
          "name": "stdout",
          "text": [
            "index of maximum lenght(longer sentence):  57667\n",
            "maximum lenght is :  377\n"
          ]
        }
      ]
    },
    {
      "cell_type": "code",
      "source": [
        "from keras.preprocessing.text import Tokenizer\n",
        "\n",
        "\n",
        "\n",
        "# The maximum number of words to be used. (most frequent)\n",
        "MAX_NB_WORDS = 10000\n",
        "# Max number of words in each complaint.\n",
        "MAX_SEQUENCE_LENGTH = max_length\n",
        "# This is fixed.\n",
        "EMBEDDING_DIM = 300\n",
        "tokenizer = Tokenizer(num_words=MAX_NB_WORDS, filters='!\"#$%&()*+,-./:;<=>?@[\\]^_`{|}~', lower=True)\n",
        "tokenizer.fit_on_texts(train['discourse_text'].values)\n",
        "word_index = tokenizer.word_index\n",
        "print('Found %s unique tokens.' % len(word_index))"
      ],
      "metadata": {
        "colab": {
          "base_uri": "https://localhost:8080/"
        },
        "id": "eG1ucGF0byJN",
        "outputId": "71b14670-4d3c-4463-afa8-d83dc3a8540b"
      },
      "execution_count": null,
      "outputs": [
        {
          "output_type": "stream",
          "name": "stdout",
          "text": [
            "Found 65442 unique tokens.\n"
          ]
        }
      ]
    },
    {
      "cell_type": "code",
      "source": [
        "from keras.preprocessing.sequence import pad_sequences\n",
        "X = tokenizer.texts_to_sequences(train['discourse_text'].values)\n",
        "X = pad_sequences(X, maxlen=MAX_SEQUENCE_LENGTH)\n",
        "print('Shape of data tensor:', X.shape)"
      ],
      "metadata": {
        "colab": {
          "base_uri": "https://localhost:8080/"
        },
        "id": "tmzbP4rTbyC3",
        "outputId": "0b8cf161-9f63-46e7-a628-adb9c8adb5fd"
      },
      "execution_count": null,
      "outputs": [
        {
          "output_type": "stream",
          "name": "stdout",
          "text": [
            "Shape of data tensor: (144293, 377)\n"
          ]
        }
      ]
    },
    {
      "cell_type": "code",
      "source": [
        "y_label = pd.get_dummies(train['discourse_type'])\n",
        "Y = y_label.values\n",
        "print('Shape of label tensor:', Y.shape)"
      ],
      "metadata": {
        "colab": {
          "base_uri": "https://localhost:8080/"
        },
        "id": "q_CbO8r0bx3Z",
        "outputId": "d0055831-3be3-4331-a5f0-3864436e9741"
      },
      "execution_count": null,
      "outputs": [
        {
          "output_type": "stream",
          "name": "stdout",
          "text": [
            "Shape of label tensor: (144293, 7)\n"
          ]
        }
      ]
    },
    {
      "cell_type": "code",
      "source": [
        "label_names = y_label.columns\n",
        "label_names"
      ],
      "metadata": {
        "colab": {
          "base_uri": "https://localhost:8080/"
        },
        "id": "DMd3iPi0cAzt",
        "outputId": "64e37197-1753-482b-efd0-0f9e760ebcee"
      },
      "execution_count": null,
      "outputs": [
        {
          "output_type": "execute_result",
          "data": {
            "text/plain": [
              "Index(['Claim', 'Concluding Statement', 'Counterclaim', 'Evidence', 'Lead',\n",
              "       'Position', 'Rebuttal'],\n",
              "      dtype='object')"
            ]
          },
          "metadata": {},
          "execution_count": 18
        }
      ]
    },
    {
      "cell_type": "markdown",
      "source": [
        "# Build LSTM with keras"
      ],
      "metadata": {
        "id": "OdgtdVqu7cDa"
      }
    },
    {
      "cell_type": "code",
      "source": [
        "model = Sequential()\n",
        "model.add(Embedding(MAX_NB_WORDS, EMBEDDING_DIM, input_length=X.shape[1]))\n",
        "model.add(SpatialDropout1D(0.4))\n",
        "model.add(LSTM(10, dropout=0.4, recurrent_dropout=0.4))\n",
        "model.add(Dense(7, activation='softmax'))\n",
        "model.compile(loss='categorical_crossentropy', optimizer='adam', metrics=['accuracy'])\n",
        "\n",
        "epochs = 5\n",
        "batch_size = 64"
      ],
      "metadata": {
        "id": "C_FGRySbcAtA",
        "colab": {
          "base_uri": "https://localhost:8080/"
        },
        "outputId": "aeaf6b6a-7c01-4401-a3d7-2cb5ddb529e8"
      },
      "execution_count": null,
      "outputs": [
        {
          "output_type": "stream",
          "name": "stdout",
          "text": [
            "WARNING:tensorflow:Layer lstm will not use cuDNN kernels since it doesn't meet the criteria. It will use a generic GPU kernel as fallback when running on GPU.\n"
          ]
        }
      ]
    },
    {
      "cell_type": "code",
      "source": [
        "model.fit(X, Y,\n",
        "          epochs=epochs,\n",
        "          batch_size=batch_size,\n",
        "          validation_split=0.1,\n",
        "          callbacks=[ModelCheckpoint('best_model.h5', save_best_only = True)])"
      ],
      "metadata": {
        "colab": {
          "base_uri": "https://localhost:8080/"
        },
        "id": "JgbxUXQtcAgS",
        "outputId": "623696a6-9e3e-4b3f-f138-1236e9c124a6"
      },
      "execution_count": null,
      "outputs": [
        {
          "output_type": "stream",
          "name": "stdout",
          "text": [
            "Epoch 1/5\n",
            "2030/2030 [==============================] - 3202s 2s/step - loss: 1.1262 - accuracy: 0.6307 - val_loss: 1.0361 - val_accuracy: 0.6709\n",
            "Epoch 2/5\n",
            "2030/2030 [==============================] - 3099s 2s/step - loss: 0.9253 - accuracy: 0.6922 - val_loss: 0.9828 - val_accuracy: 0.6741\n",
            "Epoch 3/5\n",
            "2030/2030 [==============================] - 3099s 2s/step - loss: 0.8394 - accuracy: 0.7188 - val_loss: 0.9895 - val_accuracy: 0.6719\n",
            "Epoch 4/5\n",
            "2030/2030 [==============================] - 3029s 1s/step - loss: 0.7923 - accuracy: 0.7326 - val_loss: 0.9741 - val_accuracy: 0.6697\n",
            "Epoch 5/5\n",
            "2030/2030 [==============================] - 3113s 2s/step - loss: 0.7599 - accuracy: 0.7422 - val_loss: 0.9914 - val_accuracy: 0.6600\n"
          ]
        },
        {
          "output_type": "execute_result",
          "data": {
            "text/plain": [
              "<keras.callbacks.History at 0x7f148dd35710>"
            ]
          },
          "metadata": {},
          "execution_count": 20
        }
      ]
    },
    {
      "cell_type": "code",
      "source": [
        "test_dir = \"/content/drive/MyDrive/Colab Notebooks/ori_data/test\"\n",
        "test_files = os.listdir(test_dir)\n",
        "\n",
        "for file in range(len(test_files)):\n",
        "    test_files[file] = str(test_dir) + \"/\" +  str(test_files[file])\n",
        "\n",
        "\n",
        "print(\"Total number of test files = \" , len(test_files))"
      ],
      "metadata": {
        "colab": {
          "base_uri": "https://localhost:8080/"
        },
        "id": "yTVJEzMCeHxl",
        "outputId": "c8612211-7853-4d45-fe97-37f0c7adbfed"
      },
      "execution_count": null,
      "outputs": [
        {
          "output_type": "stream",
          "name": "stdout",
          "text": [
            "Total number of test files =  5\n"
          ]
        }
      ]
    },
    {
      "cell_type": "markdown",
      "source": [
        "# Preprocess Test Data Texts"
      ],
      "metadata": {
        "id": "RyW9rti37l0X"
      }
    },
    {
      "cell_type": "code",
      "source": [
        "import os\n",
        "test_names, test_texts = [], []\n",
        "for f in list(os.listdir(test_dir)):\n",
        "    test_names.append(f.replace('.txt', ''))\n",
        "    test_texts.append(open(test_dir + '/' + f, 'r').read())\n",
        "    \n",
        "    \n",
        "test_texts = pd.DataFrame({'id': test_names, 'text': test_texts})\n",
        "test_texts"
      ],
      "metadata": {
        "colab": {
          "base_uri": "https://localhost:8080/",
          "height": 206
        },
        "id": "CbRCivBWeqSS",
        "outputId": "28644bdd-d2d5-40f7-f3db-4b75b7de72cb"
      },
      "execution_count": null,
      "outputs": [
        {
          "output_type": "execute_result",
          "data": {
            "text/html": [
              "\n",
              "  <div id=\"df-d1424f9c-2752-4390-a5ee-fd66b131b8ae\">\n",
              "    <div class=\"colab-df-container\">\n",
              "      <div>\n",
              "<style scoped>\n",
              "    .dataframe tbody tr th:only-of-type {\n",
              "        vertical-align: middle;\n",
              "    }\n",
              "\n",
              "    .dataframe tbody tr th {\n",
              "        vertical-align: top;\n",
              "    }\n",
              "\n",
              "    .dataframe thead th {\n",
              "        text-align: right;\n",
              "    }\n",
              "</style>\n",
              "<table border=\"1\" class=\"dataframe\">\n",
              "  <thead>\n",
              "    <tr style=\"text-align: right;\">\n",
              "      <th></th>\n",
              "      <th>id</th>\n",
              "      <th>text</th>\n",
              "    </tr>\n",
              "  </thead>\n",
              "  <tbody>\n",
              "    <tr>\n",
              "      <th>0</th>\n",
              "      <td>D46BCB48440A</td>\n",
              "      <td>When people ask for advice,they sometimes talk...</td>\n",
              "    </tr>\n",
              "    <tr>\n",
              "      <th>1</th>\n",
              "      <td>18409261F5C2</td>\n",
              "      <td>80% of Americans believe seeking multiple opin...</td>\n",
              "    </tr>\n",
              "    <tr>\n",
              "      <th>2</th>\n",
              "      <td>D72CB1C11673</td>\n",
              "      <td>Making choices in life can be very difficult. ...</td>\n",
              "    </tr>\n",
              "    <tr>\n",
              "      <th>3</th>\n",
              "      <td>0FB0700DAF44</td>\n",
              "      <td>During a group project, have you ever asked a ...</td>\n",
              "    </tr>\n",
              "    <tr>\n",
              "      <th>4</th>\n",
              "      <td>DF920E0A7337</td>\n",
              "      <td>Have you ever asked more than one person for h...</td>\n",
              "    </tr>\n",
              "  </tbody>\n",
              "</table>\n",
              "</div>\n",
              "      <button class=\"colab-df-convert\" onclick=\"convertToInteractive('df-d1424f9c-2752-4390-a5ee-fd66b131b8ae')\"\n",
              "              title=\"Convert this dataframe to an interactive table.\"\n",
              "              style=\"display:none;\">\n",
              "        \n",
              "  <svg xmlns=\"http://www.w3.org/2000/svg\" height=\"24px\"viewBox=\"0 0 24 24\"\n",
              "       width=\"24px\">\n",
              "    <path d=\"M0 0h24v24H0V0z\" fill=\"none\"/>\n",
              "    <path d=\"M18.56 5.44l.94 2.06.94-2.06 2.06-.94-2.06-.94-.94-2.06-.94 2.06-2.06.94zm-11 1L8.5 8.5l.94-2.06 2.06-.94-2.06-.94L8.5 2.5l-.94 2.06-2.06.94zm10 10l.94 2.06.94-2.06 2.06-.94-2.06-.94-.94-2.06-.94 2.06-2.06.94z\"/><path d=\"M17.41 7.96l-1.37-1.37c-.4-.4-.92-.59-1.43-.59-.52 0-1.04.2-1.43.59L10.3 9.45l-7.72 7.72c-.78.78-.78 2.05 0 2.83L4 21.41c.39.39.9.59 1.41.59.51 0 1.02-.2 1.41-.59l7.78-7.78 2.81-2.81c.8-.78.8-2.07 0-2.86zM5.41 20L4 18.59l7.72-7.72 1.47 1.35L5.41 20z\"/>\n",
              "  </svg>\n",
              "      </button>\n",
              "      \n",
              "  <style>\n",
              "    .colab-df-container {\n",
              "      display:flex;\n",
              "      flex-wrap:wrap;\n",
              "      gap: 12px;\n",
              "    }\n",
              "\n",
              "    .colab-df-convert {\n",
              "      background-color: #E8F0FE;\n",
              "      border: none;\n",
              "      border-radius: 50%;\n",
              "      cursor: pointer;\n",
              "      display: none;\n",
              "      fill: #1967D2;\n",
              "      height: 32px;\n",
              "      padding: 0 0 0 0;\n",
              "      width: 32px;\n",
              "    }\n",
              "\n",
              "    .colab-df-convert:hover {\n",
              "      background-color: #E2EBFA;\n",
              "      box-shadow: 0px 1px 2px rgba(60, 64, 67, 0.3), 0px 1px 3px 1px rgba(60, 64, 67, 0.15);\n",
              "      fill: #174EA6;\n",
              "    }\n",
              "\n",
              "    [theme=dark] .colab-df-convert {\n",
              "      background-color: #3B4455;\n",
              "      fill: #D2E3FC;\n",
              "    }\n",
              "\n",
              "    [theme=dark] .colab-df-convert:hover {\n",
              "      background-color: #434B5C;\n",
              "      box-shadow: 0px 1px 3px 1px rgba(0, 0, 0, 0.15);\n",
              "      filter: drop-shadow(0px 1px 2px rgba(0, 0, 0, 0.3));\n",
              "      fill: #FFFFFF;\n",
              "    }\n",
              "  </style>\n",
              "\n",
              "      <script>\n",
              "        const buttonEl =\n",
              "          document.querySelector('#df-d1424f9c-2752-4390-a5ee-fd66b131b8ae button.colab-df-convert');\n",
              "        buttonEl.style.display =\n",
              "          google.colab.kernel.accessAllowed ? 'block' : 'none';\n",
              "\n",
              "        async function convertToInteractive(key) {\n",
              "          const element = document.querySelector('#df-d1424f9c-2752-4390-a5ee-fd66b131b8ae');\n",
              "          const dataTable =\n",
              "            await google.colab.kernel.invokeFunction('convertToInteractive',\n",
              "                                                     [key], {});\n",
              "          if (!dataTable) return;\n",
              "\n",
              "          const docLinkHtml = 'Like what you see? Visit the ' +\n",
              "            '<a target=\"_blank\" href=https://colab.research.google.com/notebooks/data_table.ipynb>data table notebook</a>'\n",
              "            + ' to learn more about interactive tables.';\n",
              "          element.innerHTML = '';\n",
              "          dataTable['output_type'] = 'display_data';\n",
              "          await google.colab.output.renderOutput(dataTable, element);\n",
              "          const docLink = document.createElement('div');\n",
              "          docLink.innerHTML = docLinkHtml;\n",
              "          element.appendChild(docLink);\n",
              "        }\n",
              "      </script>\n",
              "    </div>\n",
              "  </div>\n",
              "  "
            ],
            "text/plain": [
              "             id                                               text\n",
              "0  D46BCB48440A  When people ask for advice,they sometimes talk...\n",
              "1  18409261F5C2  80% of Americans believe seeking multiple opin...\n",
              "2  D72CB1C11673  Making choices in life can be very difficult. ...\n",
              "3  0FB0700DAF44  During a group project, have you ever asked a ...\n",
              "4  DF920E0A7337  Have you ever asked more than one person for h..."
            ]
          },
          "metadata": {},
          "execution_count": 25
        }
      ]
    },
    {
      "cell_type": "code",
      "source": [
        "discourse_id = []\n",
        "discourse_text = []\n",
        "discourse_start =[] \n",
        "discourse_end = []\n",
        "predictionstring = []\n",
        "for text in range(len(test_texts.text)):\n",
        "    doc = test_texts.text[text]\n",
        "    paras = re.split(r'[.]\\n',doc)\n",
        "    start = 0\n",
        "    for para in paras:\n",
        "        positions = re.findall(r'\\w+[.]', para)\n",
        "        if len(positions) <=2 :\n",
        "            txts = re.split(r'[.]\\s',para)\n",
        "            for i in txts:\n",
        "                discourse_text.append(i)\n",
        "                length = len(i.split())\n",
        "                end = start + length\n",
        "                l = list(range(start+1,end+1 ))\n",
        "                l = [str(j) for j in l]\n",
        "                l = ' '.join(l)\n",
        "                predictionstring.append(l)\n",
        "                discourse_start.append(start+1)\n",
        "                discourse_end.append(end)\n",
        "                discourse_id.append(test_texts.id[text])\n",
        "                start += length\n",
        "\n",
        "        else: \n",
        "            if len(positions)%2 == 0:\n",
        "                split_pos = int(len(positions)/2)\n",
        "                split_word = positions[split_pos]\n",
        "            else :\n",
        "                split_pos = int((len(positions)+1)/2)\n",
        "                split_word = positions[split_pos]\n",
        "\n",
        "            words = para.split(' ')\n",
        "            position = words.index(split_word)\n",
        "            part1 = words[:position]\n",
        "            part2 = words[position:]\n",
        "            part1 = ' '.join(part1)\n",
        "            part2 = ' '.join(part2)\n",
        "            parts = [part1 ,part2]\n",
        "            for i in parts:\n",
        "                discourse_text.append(i)\n",
        "                length = len(i.split())\n",
        "                end = start + length\n",
        "                l = list(range(start+1,end+1 ))\n",
        "                l = [str(k) for k in l]\n",
        "                l = ' '.join(l)\n",
        "                predictionstring.append(l)\n",
        "                discourse_start.append(start+1)\n",
        "                discourse_end.append(end)\n",
        "                discourse_id.append(test_texts.id[text])\n",
        "                start += length\n",
        "\n",
        "testing_data =pd.DataFrame() \n",
        "testing_data['discourse_id'] =discourse_id\n",
        "testing_data['discourse_text'] = discourse_text\n",
        "testing_data['discourse_start'] = discourse_start\n",
        "testing_data['discourse_end'] = discourse_end\n",
        "testing_data['predictionstring'] = predictionstring\n",
        "testing_data.head()"
      ],
      "metadata": {
        "id": "TJDHdCPdoyyi",
        "colab": {
          "base_uri": "https://localhost:8080/",
          "height": 206
        },
        "outputId": "c2555641-8ea4-4bf6-e3f7-3a61dca8b93a"
      },
      "execution_count": null,
      "outputs": [
        {
          "output_type": "execute_result",
          "data": {
            "text/html": [
              "\n",
              "  <div id=\"df-3e0ebb10-a5df-4070-8587-baf2e9529938\">\n",
              "    <div class=\"colab-df-container\">\n",
              "      <div>\n",
              "<style scoped>\n",
              "    .dataframe tbody tr th:only-of-type {\n",
              "        vertical-align: middle;\n",
              "    }\n",
              "\n",
              "    .dataframe tbody tr th {\n",
              "        vertical-align: top;\n",
              "    }\n",
              "\n",
              "    .dataframe thead th {\n",
              "        text-align: right;\n",
              "    }\n",
              "</style>\n",
              "<table border=\"1\" class=\"dataframe\">\n",
              "  <thead>\n",
              "    <tr style=\"text-align: right;\">\n",
              "      <th></th>\n",
              "      <th>discourse_id</th>\n",
              "      <th>discourse_text</th>\n",
              "      <th>discourse_start</th>\n",
              "      <th>discourse_end</th>\n",
              "      <th>predictionstring</th>\n",
              "    </tr>\n",
              "  </thead>\n",
              "  <tbody>\n",
              "    <tr>\n",
              "      <th>0</th>\n",
              "      <td>D46BCB48440A</td>\n",
              "      <td>When people ask for advice,they sometimes talk...</td>\n",
              "      <td>1</td>\n",
              "      <td>27</td>\n",
              "      <td>1 2 3 4 5 6 7 8 9 10 11 12 13 14 15 16 17 18 1...</td>\n",
              "    </tr>\n",
              "    <tr>\n",
              "      <th>1</th>\n",
              "      <td>D46BCB48440A</td>\n",
              "      <td>choices. Some reasons I think why advises help...</td>\n",
              "      <td>28</td>\n",
              "      <td>46</td>\n",
              "      <td>28 29 30 31 32 33 34 35 36 37 38 39 40 41 42 4...</td>\n",
              "    </tr>\n",
              "    <tr>\n",
              "      <th>2</th>\n",
              "      <td>D46BCB48440A</td>\n",
              "      <td>\\nThe reason I think advises help is keeps you...</td>\n",
              "      <td>47</td>\n",
              "      <td>84</td>\n",
              "      <td>47 48 49 50 51 52 53 54 55 56 57 58 59 60 61 6...</td>\n",
              "    </tr>\n",
              "    <tr>\n",
              "      <th>3</th>\n",
              "      <td>D46BCB48440A</td>\n",
              "      <td>party. I was so ready to go but i didnt know i...</td>\n",
              "      <td>85</td>\n",
              "      <td>139</td>\n",
              "      <td>85 86 87 88 89 90 91 92 93 94 95 96 97 98 99 1...</td>\n",
              "    </tr>\n",
              "    <tr>\n",
              "      <th>4</th>\n",
              "      <td>D46BCB48440A</td>\n",
              "      <td>\\nAnother reason I think Advises help is make ...</td>\n",
              "      <td>140</td>\n",
              "      <td>178</td>\n",
              "      <td>140 141 142 143 144 145 146 147 148 149 150 15...</td>\n",
              "    </tr>\n",
              "  </tbody>\n",
              "</table>\n",
              "</div>\n",
              "      <button class=\"colab-df-convert\" onclick=\"convertToInteractive('df-3e0ebb10-a5df-4070-8587-baf2e9529938')\"\n",
              "              title=\"Convert this dataframe to an interactive table.\"\n",
              "              style=\"display:none;\">\n",
              "        \n",
              "  <svg xmlns=\"http://www.w3.org/2000/svg\" height=\"24px\"viewBox=\"0 0 24 24\"\n",
              "       width=\"24px\">\n",
              "    <path d=\"M0 0h24v24H0V0z\" fill=\"none\"/>\n",
              "    <path d=\"M18.56 5.44l.94 2.06.94-2.06 2.06-.94-2.06-.94-.94-2.06-.94 2.06-2.06.94zm-11 1L8.5 8.5l.94-2.06 2.06-.94-2.06-.94L8.5 2.5l-.94 2.06-2.06.94zm10 10l.94 2.06.94-2.06 2.06-.94-2.06-.94-.94-2.06-.94 2.06-2.06.94z\"/><path d=\"M17.41 7.96l-1.37-1.37c-.4-.4-.92-.59-1.43-.59-.52 0-1.04.2-1.43.59L10.3 9.45l-7.72 7.72c-.78.78-.78 2.05 0 2.83L4 21.41c.39.39.9.59 1.41.59.51 0 1.02-.2 1.41-.59l7.78-7.78 2.81-2.81c.8-.78.8-2.07 0-2.86zM5.41 20L4 18.59l7.72-7.72 1.47 1.35L5.41 20z\"/>\n",
              "  </svg>\n",
              "      </button>\n",
              "      \n",
              "  <style>\n",
              "    .colab-df-container {\n",
              "      display:flex;\n",
              "      flex-wrap:wrap;\n",
              "      gap: 12px;\n",
              "    }\n",
              "\n",
              "    .colab-df-convert {\n",
              "      background-color: #E8F0FE;\n",
              "      border: none;\n",
              "      border-radius: 50%;\n",
              "      cursor: pointer;\n",
              "      display: none;\n",
              "      fill: #1967D2;\n",
              "      height: 32px;\n",
              "      padding: 0 0 0 0;\n",
              "      width: 32px;\n",
              "    }\n",
              "\n",
              "    .colab-df-convert:hover {\n",
              "      background-color: #E2EBFA;\n",
              "      box-shadow: 0px 1px 2px rgba(60, 64, 67, 0.3), 0px 1px 3px 1px rgba(60, 64, 67, 0.15);\n",
              "      fill: #174EA6;\n",
              "    }\n",
              "\n",
              "    [theme=dark] .colab-df-convert {\n",
              "      background-color: #3B4455;\n",
              "      fill: #D2E3FC;\n",
              "    }\n",
              "\n",
              "    [theme=dark] .colab-df-convert:hover {\n",
              "      background-color: #434B5C;\n",
              "      box-shadow: 0px 1px 3px 1px rgba(0, 0, 0, 0.15);\n",
              "      filter: drop-shadow(0px 1px 2px rgba(0, 0, 0, 0.3));\n",
              "      fill: #FFFFFF;\n",
              "    }\n",
              "  </style>\n",
              "\n",
              "      <script>\n",
              "        const buttonEl =\n",
              "          document.querySelector('#df-3e0ebb10-a5df-4070-8587-baf2e9529938 button.colab-df-convert');\n",
              "        buttonEl.style.display =\n",
              "          google.colab.kernel.accessAllowed ? 'block' : 'none';\n",
              "\n",
              "        async function convertToInteractive(key) {\n",
              "          const element = document.querySelector('#df-3e0ebb10-a5df-4070-8587-baf2e9529938');\n",
              "          const dataTable =\n",
              "            await google.colab.kernel.invokeFunction('convertToInteractive',\n",
              "                                                     [key], {});\n",
              "          if (!dataTable) return;\n",
              "\n",
              "          const docLinkHtml = 'Like what you see? Visit the ' +\n",
              "            '<a target=\"_blank\" href=https://colab.research.google.com/notebooks/data_table.ipynb>data table notebook</a>'\n",
              "            + ' to learn more about interactive tables.';\n",
              "          element.innerHTML = '';\n",
              "          dataTable['output_type'] = 'display_data';\n",
              "          await google.colab.output.renderOutput(dataTable, element);\n",
              "          const docLink = document.createElement('div');\n",
              "          docLink.innerHTML = docLinkHtml;\n",
              "          element.appendChild(docLink);\n",
              "        }\n",
              "      </script>\n",
              "    </div>\n",
              "  </div>\n",
              "  "
            ],
            "text/plain": [
              "   discourse_id                                     discourse_text  \\\n",
              "0  D46BCB48440A  When people ask for advice,they sometimes talk...   \n",
              "1  D46BCB48440A  choices. Some reasons I think why advises help...   \n",
              "2  D46BCB48440A  \\nThe reason I think advises help is keeps you...   \n",
              "3  D46BCB48440A  party. I was so ready to go but i didnt know i...   \n",
              "4  D46BCB48440A  \\nAnother reason I think Advises help is make ...   \n",
              "\n",
              "   discourse_start  discourse_end  \\\n",
              "0                1             27   \n",
              "1               28             46   \n",
              "2               47             84   \n",
              "3               85            139   \n",
              "4              140            178   \n",
              "\n",
              "                                    predictionstring  \n",
              "0  1 2 3 4 5 6 7 8 9 10 11 12 13 14 15 16 17 18 1...  \n",
              "1  28 29 30 31 32 33 34 35 36 37 38 39 40 41 42 4...  \n",
              "2  47 48 49 50 51 52 53 54 55 56 57 58 59 60 61 6...  \n",
              "3  85 86 87 88 89 90 91 92 93 94 95 96 97 98 99 1...  \n",
              "4  140 141 142 143 144 145 146 147 148 149 150 15...  "
            ]
          },
          "metadata": {},
          "execution_count": 26
        }
      ]
    },
    {
      "cell_type": "code",
      "source": [
        "len(testing_data)"
      ],
      "metadata": {
        "colab": {
          "base_uri": "https://localhost:8080/"
        },
        "id": "gkght3ULo0-H",
        "outputId": "cb0a7693-8f3b-49ef-e465-be89b417a706"
      },
      "execution_count": null,
      "outputs": [
        {
          "output_type": "execute_result",
          "data": {
            "text/plain": [
              "55"
            ]
          },
          "metadata": {},
          "execution_count": 27
        }
      ]
    },
    {
      "cell_type": "code",
      "source": [
        "testing_data['test_sentences'] = testing_data['discourse_text'].apply(clean_text)\n",
        "testing_data['test_sentences'] = testing_data['discourse_text'].str.replace('\\d+', '')"
      ],
      "metadata": {
        "id": "4kpd553jo7t9",
        "colab": {
          "base_uri": "https://localhost:8080/"
        },
        "outputId": "2993fd1b-618c-4f3d-ea5c-0d040939a33b"
      },
      "execution_count": null,
      "outputs": [
        {
          "output_type": "stream",
          "name": "stderr",
          "text": [
            "/usr/local/lib/python3.7/dist-packages/ipykernel_launcher.py:2: FutureWarning: The default value of regex will change from True to False in a future version.\n",
            "  \n"
          ]
        }
      ]
    },
    {
      "cell_type": "code",
      "source": [
        "testing_data.head()"
      ],
      "metadata": {
        "colab": {
          "base_uri": "https://localhost:8080/",
          "height": 206
        },
        "id": "AGkS40WBo_3w",
        "outputId": "021a807c-0b65-4180-e95a-d88c8973c7af"
      },
      "execution_count": null,
      "outputs": [
        {
          "output_type": "execute_result",
          "data": {
            "text/html": [
              "\n",
              "  <div id=\"df-91491dab-3b7a-44dc-be5b-722a877e0d1e\">\n",
              "    <div class=\"colab-df-container\">\n",
              "      <div>\n",
              "<style scoped>\n",
              "    .dataframe tbody tr th:only-of-type {\n",
              "        vertical-align: middle;\n",
              "    }\n",
              "\n",
              "    .dataframe tbody tr th {\n",
              "        vertical-align: top;\n",
              "    }\n",
              "\n",
              "    .dataframe thead th {\n",
              "        text-align: right;\n",
              "    }\n",
              "</style>\n",
              "<table border=\"1\" class=\"dataframe\">\n",
              "  <thead>\n",
              "    <tr style=\"text-align: right;\">\n",
              "      <th></th>\n",
              "      <th>discourse_id</th>\n",
              "      <th>discourse_text</th>\n",
              "      <th>discourse_start</th>\n",
              "      <th>discourse_end</th>\n",
              "      <th>predictionstring</th>\n",
              "      <th>test_sentences</th>\n",
              "    </tr>\n",
              "  </thead>\n",
              "  <tbody>\n",
              "    <tr>\n",
              "      <th>0</th>\n",
              "      <td>D46BCB48440A</td>\n",
              "      <td>When people ask for advice,they sometimes talk...</td>\n",
              "      <td>1</td>\n",
              "      <td>27</td>\n",
              "      <td>1 2 3 4 5 6 7 8 9 10 11 12 13 14 15 16 17 18 1...</td>\n",
              "      <td>When people ask for advice,they sometimes talk...</td>\n",
              "    </tr>\n",
              "    <tr>\n",
              "      <th>1</th>\n",
              "      <td>D46BCB48440A</td>\n",
              "      <td>choices. Some reasons I think why advises help...</td>\n",
              "      <td>28</td>\n",
              "      <td>46</td>\n",
              "      <td>28 29 30 31 32 33 34 35 36 37 38 39 40 41 42 4...</td>\n",
              "      <td>choices. Some reasons I think why advises help...</td>\n",
              "    </tr>\n",
              "    <tr>\n",
              "      <th>2</th>\n",
              "      <td>D46BCB48440A</td>\n",
              "      <td>\\nThe reason I think advises help is keeps you...</td>\n",
              "      <td>47</td>\n",
              "      <td>84</td>\n",
              "      <td>47 48 49 50 51 52 53 54 55 56 57 58 59 60 61 6...</td>\n",
              "      <td>\\nThe reason I think advises help is keeps you...</td>\n",
              "    </tr>\n",
              "    <tr>\n",
              "      <th>3</th>\n",
              "      <td>D46BCB48440A</td>\n",
              "      <td>party. I was so ready to go but i didnt know i...</td>\n",
              "      <td>85</td>\n",
              "      <td>139</td>\n",
              "      <td>85 86 87 88 89 90 91 92 93 94 95 96 97 98 99 1...</td>\n",
              "      <td>party. I was so ready to go but i didnt know i...</td>\n",
              "    </tr>\n",
              "    <tr>\n",
              "      <th>4</th>\n",
              "      <td>D46BCB48440A</td>\n",
              "      <td>\\nAnother reason I think Advises help is make ...</td>\n",
              "      <td>140</td>\n",
              "      <td>178</td>\n",
              "      <td>140 141 142 143 144 145 146 147 148 149 150 15...</td>\n",
              "      <td>\\nAnother reason I think Advises help is make ...</td>\n",
              "    </tr>\n",
              "  </tbody>\n",
              "</table>\n",
              "</div>\n",
              "      <button class=\"colab-df-convert\" onclick=\"convertToInteractive('df-91491dab-3b7a-44dc-be5b-722a877e0d1e')\"\n",
              "              title=\"Convert this dataframe to an interactive table.\"\n",
              "              style=\"display:none;\">\n",
              "        \n",
              "  <svg xmlns=\"http://www.w3.org/2000/svg\" height=\"24px\"viewBox=\"0 0 24 24\"\n",
              "       width=\"24px\">\n",
              "    <path d=\"M0 0h24v24H0V0z\" fill=\"none\"/>\n",
              "    <path d=\"M18.56 5.44l.94 2.06.94-2.06 2.06-.94-2.06-.94-.94-2.06-.94 2.06-2.06.94zm-11 1L8.5 8.5l.94-2.06 2.06-.94-2.06-.94L8.5 2.5l-.94 2.06-2.06.94zm10 10l.94 2.06.94-2.06 2.06-.94-2.06-.94-.94-2.06-.94 2.06-2.06.94z\"/><path d=\"M17.41 7.96l-1.37-1.37c-.4-.4-.92-.59-1.43-.59-.52 0-1.04.2-1.43.59L10.3 9.45l-7.72 7.72c-.78.78-.78 2.05 0 2.83L4 21.41c.39.39.9.59 1.41.59.51 0 1.02-.2 1.41-.59l7.78-7.78 2.81-2.81c.8-.78.8-2.07 0-2.86zM5.41 20L4 18.59l7.72-7.72 1.47 1.35L5.41 20z\"/>\n",
              "  </svg>\n",
              "      </button>\n",
              "      \n",
              "  <style>\n",
              "    .colab-df-container {\n",
              "      display:flex;\n",
              "      flex-wrap:wrap;\n",
              "      gap: 12px;\n",
              "    }\n",
              "\n",
              "    .colab-df-convert {\n",
              "      background-color: #E8F0FE;\n",
              "      border: none;\n",
              "      border-radius: 50%;\n",
              "      cursor: pointer;\n",
              "      display: none;\n",
              "      fill: #1967D2;\n",
              "      height: 32px;\n",
              "      padding: 0 0 0 0;\n",
              "      width: 32px;\n",
              "    }\n",
              "\n",
              "    .colab-df-convert:hover {\n",
              "      background-color: #E2EBFA;\n",
              "      box-shadow: 0px 1px 2px rgba(60, 64, 67, 0.3), 0px 1px 3px 1px rgba(60, 64, 67, 0.15);\n",
              "      fill: #174EA6;\n",
              "    }\n",
              "\n",
              "    [theme=dark] .colab-df-convert {\n",
              "      background-color: #3B4455;\n",
              "      fill: #D2E3FC;\n",
              "    }\n",
              "\n",
              "    [theme=dark] .colab-df-convert:hover {\n",
              "      background-color: #434B5C;\n",
              "      box-shadow: 0px 1px 3px 1px rgba(0, 0, 0, 0.15);\n",
              "      filter: drop-shadow(0px 1px 2px rgba(0, 0, 0, 0.3));\n",
              "      fill: #FFFFFF;\n",
              "    }\n",
              "  </style>\n",
              "\n",
              "      <script>\n",
              "        const buttonEl =\n",
              "          document.querySelector('#df-91491dab-3b7a-44dc-be5b-722a877e0d1e button.colab-df-convert');\n",
              "        buttonEl.style.display =\n",
              "          google.colab.kernel.accessAllowed ? 'block' : 'none';\n",
              "\n",
              "        async function convertToInteractive(key) {\n",
              "          const element = document.querySelector('#df-91491dab-3b7a-44dc-be5b-722a877e0d1e');\n",
              "          const dataTable =\n",
              "            await google.colab.kernel.invokeFunction('convertToInteractive',\n",
              "                                                     [key], {});\n",
              "          if (!dataTable) return;\n",
              "\n",
              "          const docLinkHtml = 'Like what you see? Visit the ' +\n",
              "            '<a target=\"_blank\" href=https://colab.research.google.com/notebooks/data_table.ipynb>data table notebook</a>'\n",
              "            + ' to learn more about interactive tables.';\n",
              "          element.innerHTML = '';\n",
              "          dataTable['output_type'] = 'display_data';\n",
              "          await google.colab.output.renderOutput(dataTable, element);\n",
              "          const docLink = document.createElement('div');\n",
              "          docLink.innerHTML = docLinkHtml;\n",
              "          element.appendChild(docLink);\n",
              "        }\n",
              "      </script>\n",
              "    </div>\n",
              "  </div>\n",
              "  "
            ],
            "text/plain": [
              "   discourse_id                                     discourse_text  \\\n",
              "0  D46BCB48440A  When people ask for advice,they sometimes talk...   \n",
              "1  D46BCB48440A  choices. Some reasons I think why advises help...   \n",
              "2  D46BCB48440A  \\nThe reason I think advises help is keeps you...   \n",
              "3  D46BCB48440A  party. I was so ready to go but i didnt know i...   \n",
              "4  D46BCB48440A  \\nAnother reason I think Advises help is make ...   \n",
              "\n",
              "   discourse_start  discourse_end  \\\n",
              "0                1             27   \n",
              "1               28             46   \n",
              "2               47             84   \n",
              "3               85            139   \n",
              "4              140            178   \n",
              "\n",
              "                                    predictionstring  \\\n",
              "0  1 2 3 4 5 6 7 8 9 10 11 12 13 14 15 16 17 18 1...   \n",
              "1  28 29 30 31 32 33 34 35 36 37 38 39 40 41 42 4...   \n",
              "2  47 48 49 50 51 52 53 54 55 56 57 58 59 60 61 6...   \n",
              "3  85 86 87 88 89 90 91 92 93 94 95 96 97 98 99 1...   \n",
              "4  140 141 142 143 144 145 146 147 148 149 150 15...   \n",
              "\n",
              "                                      test_sentences  \n",
              "0  When people ask for advice,they sometimes talk...  \n",
              "1  choices. Some reasons I think why advises help...  \n",
              "2  \\nThe reason I think advises help is keeps you...  \n",
              "3  party. I was so ready to go but i didnt know i...  \n",
              "4  \\nAnother reason I think Advises help is make ...  "
            ]
          },
          "metadata": {},
          "execution_count": 30
        }
      ]
    },
    {
      "cell_type": "code",
      "source": [
        "X_test = tokenizer.texts_to_sequences(testing_data['test_sentences'].values)\n",
        "X_test = pad_sequences(X_test, maxlen=MAX_SEQUENCE_LENGTH)\n",
        "print('Shape of data tensor:', X_test.shape)"
      ],
      "metadata": {
        "colab": {
          "base_uri": "https://localhost:8080/"
        },
        "id": "neHx7eT4pMPs",
        "outputId": "6b1267dc-4363-4d77-8711-98aac45c3bf5"
      },
      "execution_count": null,
      "outputs": [
        {
          "output_type": "stream",
          "name": "stdout",
          "text": [
            "Shape of data tensor: (55, 377)\n"
          ]
        }
      ]
    },
    {
      "cell_type": "code",
      "source": [
        "y_pred = model.predict(X_test)\n",
        "output = pd.DataFrame(y_pred ,columns= label_names)\n",
        "output = list(output.idxmax(axis = 1))\n",
        "submission_df = pd.DataFrame()\n",
        "submission_df['id'] = testing_data['discourse_id']\n",
        "submission_df['class'] = output# label of y_predict\n",
        "submission_df['predictionstring'] = testing_data['predictionstring']\n",
        "mapping = { 1:'Claim' , 2:'Evidence' ,  3:'Position' , 4:'Concluding Statement' , 5:'Lead', 6:'Counterclaim', 7:'Rebuttal' }\n",
        "submission_df['class']= submission_df['class'].replace(mapping)\n",
        "submission_df"
      ],
      "metadata": {
        "colab": {
          "base_uri": "https://localhost:8080/",
          "height": 1000
        },
        "id": "IXixWbSepNU3",
        "outputId": "3ce024dc-b731-4dbc-d9a9-9ca9b27fb772"
      },
      "execution_count": null,
      "outputs": [
        {
          "output_type": "execute_result",
          "data": {
            "text/html": [
              "\n",
              "  <div id=\"df-ba8d8acb-bca6-468d-bfe1-3f10a8279cea\">\n",
              "    <div class=\"colab-df-container\">\n",
              "      <div>\n",
              "<style scoped>\n",
              "    .dataframe tbody tr th:only-of-type {\n",
              "        vertical-align: middle;\n",
              "    }\n",
              "\n",
              "    .dataframe tbody tr th {\n",
              "        vertical-align: top;\n",
              "    }\n",
              "\n",
              "    .dataframe thead th {\n",
              "        text-align: right;\n",
              "    }\n",
              "</style>\n",
              "<table border=\"1\" class=\"dataframe\">\n",
              "  <thead>\n",
              "    <tr style=\"text-align: right;\">\n",
              "      <th></th>\n",
              "      <th>id</th>\n",
              "      <th>class</th>\n",
              "      <th>predictionstring</th>\n",
              "    </tr>\n",
              "  </thead>\n",
              "  <tbody>\n",
              "    <tr>\n",
              "      <th>0</th>\n",
              "      <td>D46BCB48440A</td>\n",
              "      <td>Evidence</td>\n",
              "      <td>1 2 3 4 5 6 7 8 9 10 11 12 13 14 15 16 17 18 1...</td>\n",
              "    </tr>\n",
              "    <tr>\n",
              "      <th>1</th>\n",
              "      <td>D46BCB48440A</td>\n",
              "      <td>Claim</td>\n",
              "      <td>28 29 30 31 32 33 34 35 36 37 38 39 40 41 42 4...</td>\n",
              "    </tr>\n",
              "    <tr>\n",
              "      <th>2</th>\n",
              "      <td>D46BCB48440A</td>\n",
              "      <td>Evidence</td>\n",
              "      <td>47 48 49 50 51 52 53 54 55 56 57 58 59 60 61 6...</td>\n",
              "    </tr>\n",
              "    <tr>\n",
              "      <th>3</th>\n",
              "      <td>D46BCB48440A</td>\n",
              "      <td>Evidence</td>\n",
              "      <td>85 86 87 88 89 90 91 92 93 94 95 96 97 98 99 1...</td>\n",
              "    </tr>\n",
              "    <tr>\n",
              "      <th>4</th>\n",
              "      <td>D46BCB48440A</td>\n",
              "      <td>Evidence</td>\n",
              "      <td>140 141 142 143 144 145 146 147 148 149 150 15...</td>\n",
              "    </tr>\n",
              "    <tr>\n",
              "      <th>5</th>\n",
              "      <td>D46BCB48440A</td>\n",
              "      <td>Evidence</td>\n",
              "      <td>179 180 181 182 183 184 185 186 187 188 189 19...</td>\n",
              "    </tr>\n",
              "    <tr>\n",
              "      <th>6</th>\n",
              "      <td>D46BCB48440A</td>\n",
              "      <td>Evidence</td>\n",
              "      <td>214 215 216 217 218 219 220 221 222 223 224 22...</td>\n",
              "    </tr>\n",
              "    <tr>\n",
              "      <th>7</th>\n",
              "      <td>D46BCB48440A</td>\n",
              "      <td>Evidence</td>\n",
              "      <td>268 269 270 271 272 273 274 275 276 277 278 27...</td>\n",
              "    </tr>\n",
              "    <tr>\n",
              "      <th>8</th>\n",
              "      <td>D46BCB48440A</td>\n",
              "      <td>Evidence</td>\n",
              "      <td>307 308 309 310 311 312 313 314 315 316 317 31...</td>\n",
              "    </tr>\n",
              "    <tr>\n",
              "      <th>9</th>\n",
              "      <td>D46BCB48440A</td>\n",
              "      <td>Claim</td>\n",
              "      <td>350 351 352 353 354 355 356 357 358 359 360 36...</td>\n",
              "    </tr>\n",
              "    <tr>\n",
              "      <th>10</th>\n",
              "      <td>18409261F5C2</td>\n",
              "      <td>Evidence</td>\n",
              "      <td>1 2 3 4 5 6 7 8 9 10 11 12 13 14 15 16 17 18 1...</td>\n",
              "    </tr>\n",
              "    <tr>\n",
              "      <th>11</th>\n",
              "      <td>18409261F5C2</td>\n",
              "      <td>Evidence</td>\n",
              "      <td>71 72 73 74 75 76 77 78 79 80 81 82 83 84 85 8...</td>\n",
              "    </tr>\n",
              "    <tr>\n",
              "      <th>12</th>\n",
              "      <td>18409261F5C2</td>\n",
              "      <td>Evidence</td>\n",
              "      <td>163 164 165 166 167 168 169 170 171 172 173 17...</td>\n",
              "    </tr>\n",
              "    <tr>\n",
              "      <th>13</th>\n",
              "      <td>18409261F5C2</td>\n",
              "      <td>Evidence</td>\n",
              "      <td>330 331 332 333 334 335 336 337 338 339 340 34...</td>\n",
              "    </tr>\n",
              "    <tr>\n",
              "      <th>14</th>\n",
              "      <td>18409261F5C2</td>\n",
              "      <td>Evidence</td>\n",
              "      <td>442 443 444 445 446 447 448 449 450 451 452 45...</td>\n",
              "    </tr>\n",
              "    <tr>\n",
              "      <th>15</th>\n",
              "      <td>18409261F5C2</td>\n",
              "      <td>Evidence</td>\n",
              "      <td>603 604 605 606 607 608 609 610 611 612 613 61...</td>\n",
              "    </tr>\n",
              "    <tr>\n",
              "      <th>16</th>\n",
              "      <td>18409261F5C2</td>\n",
              "      <td>Evidence</td>\n",
              "      <td>740 741 742 743 744 745 746 747 748 749 750 75...</td>\n",
              "    </tr>\n",
              "    <tr>\n",
              "      <th>17</th>\n",
              "      <td>18409261F5C2</td>\n",
              "      <td>Claim</td>\n",
              "      <td>763 764 765 766 767 768 769 770 771 772 773 77...</td>\n",
              "    </tr>\n",
              "    <tr>\n",
              "      <th>18</th>\n",
              "      <td>18409261F5C2</td>\n",
              "      <td>Claim</td>\n",
              "      <td>787 788 789 790 791 792 793 794 795 796 797 79...</td>\n",
              "    </tr>\n",
              "    <tr>\n",
              "      <th>19</th>\n",
              "      <td>18409261F5C2</td>\n",
              "      <td>Evidence</td>\n",
              "      <td>803 804 805 806 807 808 809 810 811 812 813 81...</td>\n",
              "    </tr>\n",
              "    <tr>\n",
              "      <th>20</th>\n",
              "      <td>18409261F5C2</td>\n",
              "      <td>Claim</td>\n",
              "      <td>865 866 867 868 869 870 871 872 873 874 875 87...</td>\n",
              "    </tr>\n",
              "    <tr>\n",
              "      <th>21</th>\n",
              "      <td>18409261F5C2</td>\n",
              "      <td>Evidence</td>\n",
              "      <td>880 881 882 883 884 885 886 887 888 889 890 89...</td>\n",
              "    </tr>\n",
              "    <tr>\n",
              "      <th>22</th>\n",
              "      <td>18409261F5C2</td>\n",
              "      <td>Evidence</td>\n",
              "      <td>928 929 930 931 932 933 934 935 936 937 938 93...</td>\n",
              "    </tr>\n",
              "    <tr>\n",
              "      <th>23</th>\n",
              "      <td>18409261F5C2</td>\n",
              "      <td>Evidence</td>\n",
              "      <td>988 989 990 991 992 993 994 995 996 997 998 99...</td>\n",
              "    </tr>\n",
              "    <tr>\n",
              "      <th>24</th>\n",
              "      <td>18409261F5C2</td>\n",
              "      <td>Position</td>\n",
              "      <td>1049 1050 1051 1052 1053 1054 1055 1056</td>\n",
              "    </tr>\n",
              "    <tr>\n",
              "      <th>25</th>\n",
              "      <td>D72CB1C11673</td>\n",
              "      <td>Evidence</td>\n",
              "      <td>1 2 3 4 5 6 7 8 9 10 11 12 13 14 15 16 17 18 1...</td>\n",
              "    </tr>\n",
              "    <tr>\n",
              "      <th>26</th>\n",
              "      <td>D72CB1C11673</td>\n",
              "      <td>Evidence</td>\n",
              "      <td>34 35 36 37 38 39 40 41 42 43 44 45 46 47 48 4...</td>\n",
              "    </tr>\n",
              "    <tr>\n",
              "      <th>27</th>\n",
              "      <td>D72CB1C11673</td>\n",
              "      <td>Evidence</td>\n",
              "      <td>81 82 83 84 85 86 87 88 89 90 91 92 93 94 95 9...</td>\n",
              "    </tr>\n",
              "    <tr>\n",
              "      <th>28</th>\n",
              "      <td>D72CB1C11673</td>\n",
              "      <td>Evidence</td>\n",
              "      <td>139 140 141 142 143 144 145 146 147 148 149 15...</td>\n",
              "    </tr>\n",
              "    <tr>\n",
              "      <th>29</th>\n",
              "      <td>D72CB1C11673</td>\n",
              "      <td>Evidence</td>\n",
              "      <td>169 170 171 172 173 174 175 176 177 178 179 18...</td>\n",
              "    </tr>\n",
              "    <tr>\n",
              "      <th>30</th>\n",
              "      <td>D72CB1C11673</td>\n",
              "      <td>Evidence</td>\n",
              "      <td>221 222 223 224 225 226 227 228 229 230 231 23...</td>\n",
              "    </tr>\n",
              "    <tr>\n",
              "      <th>31</th>\n",
              "      <td>D72CB1C11673</td>\n",
              "      <td>Evidence</td>\n",
              "      <td>266 267 268 269 270 271 272 273 274 275 276 27...</td>\n",
              "    </tr>\n",
              "    <tr>\n",
              "      <th>32</th>\n",
              "      <td>D72CB1C11673</td>\n",
              "      <td>Evidence</td>\n",
              "      <td>337 338 339 340 341 342 343 344 345 346 347 34...</td>\n",
              "    </tr>\n",
              "    <tr>\n",
              "      <th>33</th>\n",
              "      <td>D72CB1C11673</td>\n",
              "      <td>Evidence</td>\n",
              "      <td>363 364 365 366 367 368 369 370 371 372 373 37...</td>\n",
              "    </tr>\n",
              "    <tr>\n",
              "      <th>34</th>\n",
              "      <td>D72CB1C11673</td>\n",
              "      <td>Rebuttal</td>\n",
              "      <td>410 411 412 413 414 415 416 417 418 419 420 421</td>\n",
              "    </tr>\n",
              "    <tr>\n",
              "      <th>35</th>\n",
              "      <td>0FB0700DAF44</td>\n",
              "      <td>Evidence</td>\n",
              "      <td>1 2 3 4 5 6 7 8 9 10 11 12 13 14 15 16 17 18 1...</td>\n",
              "    </tr>\n",
              "    <tr>\n",
              "      <th>36</th>\n",
              "      <td>0FB0700DAF44</td>\n",
              "      <td>Evidence</td>\n",
              "      <td>108 109 110 111 112 113 114 115 116 117 118 11...</td>\n",
              "    </tr>\n",
              "    <tr>\n",
              "      <th>37</th>\n",
              "      <td>0FB0700DAF44</td>\n",
              "      <td>Evidence</td>\n",
              "      <td>121 122 123 124 125 126 127 128 129 130 131 13...</td>\n",
              "    </tr>\n",
              "    <tr>\n",
              "      <th>38</th>\n",
              "      <td>0FB0700DAF44</td>\n",
              "      <td>Evidence</td>\n",
              "      <td>230 231 232 233 234 235 236 237 238 239 240 24...</td>\n",
              "    </tr>\n",
              "    <tr>\n",
              "      <th>39</th>\n",
              "      <td>0FB0700DAF44</td>\n",
              "      <td>Evidence</td>\n",
              "      <td>284 285 286 287 288 289 290 291 292 293 294 29...</td>\n",
              "    </tr>\n",
              "    <tr>\n",
              "      <th>40</th>\n",
              "      <td>0FB0700DAF44</td>\n",
              "      <td>Evidence</td>\n",
              "      <td>315 316 317 318 319 320 321 322 323 324 325 32...</td>\n",
              "    </tr>\n",
              "    <tr>\n",
              "      <th>41</th>\n",
              "      <td>0FB0700DAF44</td>\n",
              "      <td>Evidence</td>\n",
              "      <td>432 433 434 435 436 437 438 439 440 441 442 44...</td>\n",
              "    </tr>\n",
              "    <tr>\n",
              "      <th>42</th>\n",
              "      <td>0FB0700DAF44</td>\n",
              "      <td>Evidence</td>\n",
              "      <td>561 562 563 564 565 566 567 568 569 570 571 57...</td>\n",
              "    </tr>\n",
              "    <tr>\n",
              "      <th>43</th>\n",
              "      <td>0FB0700DAF44</td>\n",
              "      <td>Evidence</td>\n",
              "      <td>619 620 621 622 623 624 625 626 627 628 629 63...</td>\n",
              "    </tr>\n",
              "    <tr>\n",
              "      <th>44</th>\n",
              "      <td>DF920E0A7337</td>\n",
              "      <td>Evidence</td>\n",
              "      <td>1 2 3 4 5 6 7 8 9 10 11 12 13 14 15 16 17 18 1...</td>\n",
              "    </tr>\n",
              "    <tr>\n",
              "      <th>45</th>\n",
              "      <td>DF920E0A7337</td>\n",
              "      <td>Evidence</td>\n",
              "      <td>43 44 45 46 47 48 49 50 51 52 53 54 55 56 57 5...</td>\n",
              "    </tr>\n",
              "    <tr>\n",
              "      <th>46</th>\n",
              "      <td>DF920E0A7337</td>\n",
              "      <td>Evidence</td>\n",
              "      <td>109 110 111 112 113 114 115 116 117 118 119 12...</td>\n",
              "    </tr>\n",
              "    <tr>\n",
              "      <th>47</th>\n",
              "      <td>DF920E0A7337</td>\n",
              "      <td>Evidence</td>\n",
              "      <td>220 221 222 223 224 225 226 227 228 229 230 23...</td>\n",
              "    </tr>\n",
              "    <tr>\n",
              "      <th>48</th>\n",
              "      <td>DF920E0A7337</td>\n",
              "      <td>Evidence</td>\n",
              "      <td>302 303 304 305 306 307 308 309 310 311 312 31...</td>\n",
              "    </tr>\n",
              "    <tr>\n",
              "      <th>49</th>\n",
              "      <td>DF920E0A7337</td>\n",
              "      <td>Evidence</td>\n",
              "      <td>405 406 407 408 409 410 411 412 413 414 415 41...</td>\n",
              "    </tr>\n",
              "    <tr>\n",
              "      <th>50</th>\n",
              "      <td>DF920E0A7337</td>\n",
              "      <td>Evidence</td>\n",
              "      <td>458 459 460 461 462 463 464 465 466 467 468 46...</td>\n",
              "    </tr>\n",
              "    <tr>\n",
              "      <th>51</th>\n",
              "      <td>DF920E0A7337</td>\n",
              "      <td>Evidence</td>\n",
              "      <td>554 555 556 557 558 559 560 561 562 563 564 56...</td>\n",
              "    </tr>\n",
              "    <tr>\n",
              "      <th>52</th>\n",
              "      <td>DF920E0A7337</td>\n",
              "      <td>Concluding Statement</td>\n",
              "      <td>619 620 621 622 623 624 625 626 627 628 629 63...</td>\n",
              "    </tr>\n",
              "    <tr>\n",
              "      <th>53</th>\n",
              "      <td>DF920E0A7337</td>\n",
              "      <td>Evidence</td>\n",
              "      <td>652 653 654 655 656 657 658 659 660 661 662 66...</td>\n",
              "    </tr>\n",
              "    <tr>\n",
              "      <th>54</th>\n",
              "      <td>DF920E0A7337</td>\n",
              "      <td>Claim</td>\n",
              "      <td>703 704 705 706 707 708 709 710 711</td>\n",
              "    </tr>\n",
              "  </tbody>\n",
              "</table>\n",
              "</div>\n",
              "      <button class=\"colab-df-convert\" onclick=\"convertToInteractive('df-ba8d8acb-bca6-468d-bfe1-3f10a8279cea')\"\n",
              "              title=\"Convert this dataframe to an interactive table.\"\n",
              "              style=\"display:none;\">\n",
              "        \n",
              "  <svg xmlns=\"http://www.w3.org/2000/svg\" height=\"24px\"viewBox=\"0 0 24 24\"\n",
              "       width=\"24px\">\n",
              "    <path d=\"M0 0h24v24H0V0z\" fill=\"none\"/>\n",
              "    <path d=\"M18.56 5.44l.94 2.06.94-2.06 2.06-.94-2.06-.94-.94-2.06-.94 2.06-2.06.94zm-11 1L8.5 8.5l.94-2.06 2.06-.94-2.06-.94L8.5 2.5l-.94 2.06-2.06.94zm10 10l.94 2.06.94-2.06 2.06-.94-2.06-.94-.94-2.06-.94 2.06-2.06.94z\"/><path d=\"M17.41 7.96l-1.37-1.37c-.4-.4-.92-.59-1.43-.59-.52 0-1.04.2-1.43.59L10.3 9.45l-7.72 7.72c-.78.78-.78 2.05 0 2.83L4 21.41c.39.39.9.59 1.41.59.51 0 1.02-.2 1.41-.59l7.78-7.78 2.81-2.81c.8-.78.8-2.07 0-2.86zM5.41 20L4 18.59l7.72-7.72 1.47 1.35L5.41 20z\"/>\n",
              "  </svg>\n",
              "      </button>\n",
              "      \n",
              "  <style>\n",
              "    .colab-df-container {\n",
              "      display:flex;\n",
              "      flex-wrap:wrap;\n",
              "      gap: 12px;\n",
              "    }\n",
              "\n",
              "    .colab-df-convert {\n",
              "      background-color: #E8F0FE;\n",
              "      border: none;\n",
              "      border-radius: 50%;\n",
              "      cursor: pointer;\n",
              "      display: none;\n",
              "      fill: #1967D2;\n",
              "      height: 32px;\n",
              "      padding: 0 0 0 0;\n",
              "      width: 32px;\n",
              "    }\n",
              "\n",
              "    .colab-df-convert:hover {\n",
              "      background-color: #E2EBFA;\n",
              "      box-shadow: 0px 1px 2px rgba(60, 64, 67, 0.3), 0px 1px 3px 1px rgba(60, 64, 67, 0.15);\n",
              "      fill: #174EA6;\n",
              "    }\n",
              "\n",
              "    [theme=dark] .colab-df-convert {\n",
              "      background-color: #3B4455;\n",
              "      fill: #D2E3FC;\n",
              "    }\n",
              "\n",
              "    [theme=dark] .colab-df-convert:hover {\n",
              "      background-color: #434B5C;\n",
              "      box-shadow: 0px 1px 3px 1px rgba(0, 0, 0, 0.15);\n",
              "      filter: drop-shadow(0px 1px 2px rgba(0, 0, 0, 0.3));\n",
              "      fill: #FFFFFF;\n",
              "    }\n",
              "  </style>\n",
              "\n",
              "      <script>\n",
              "        const buttonEl =\n",
              "          document.querySelector('#df-ba8d8acb-bca6-468d-bfe1-3f10a8279cea button.colab-df-convert');\n",
              "        buttonEl.style.display =\n",
              "          google.colab.kernel.accessAllowed ? 'block' : 'none';\n",
              "\n",
              "        async function convertToInteractive(key) {\n",
              "          const element = document.querySelector('#df-ba8d8acb-bca6-468d-bfe1-3f10a8279cea');\n",
              "          const dataTable =\n",
              "            await google.colab.kernel.invokeFunction('convertToInteractive',\n",
              "                                                     [key], {});\n",
              "          if (!dataTable) return;\n",
              "\n",
              "          const docLinkHtml = 'Like what you see? Visit the ' +\n",
              "            '<a target=\"_blank\" href=https://colab.research.google.com/notebooks/data_table.ipynb>data table notebook</a>'\n",
              "            + ' to learn more about interactive tables.';\n",
              "          element.innerHTML = '';\n",
              "          dataTable['output_type'] = 'display_data';\n",
              "          await google.colab.output.renderOutput(dataTable, element);\n",
              "          const docLink = document.createElement('div');\n",
              "          docLink.innerHTML = docLinkHtml;\n",
              "          element.appendChild(docLink);\n",
              "        }\n",
              "      </script>\n",
              "    </div>\n",
              "  </div>\n",
              "  "
            ],
            "text/plain": [
              "              id                 class  \\\n",
              "0   D46BCB48440A              Evidence   \n",
              "1   D46BCB48440A                 Claim   \n",
              "2   D46BCB48440A              Evidence   \n",
              "3   D46BCB48440A              Evidence   \n",
              "4   D46BCB48440A              Evidence   \n",
              "5   D46BCB48440A              Evidence   \n",
              "6   D46BCB48440A              Evidence   \n",
              "7   D46BCB48440A              Evidence   \n",
              "8   D46BCB48440A              Evidence   \n",
              "9   D46BCB48440A                 Claim   \n",
              "10  18409261F5C2              Evidence   \n",
              "11  18409261F5C2              Evidence   \n",
              "12  18409261F5C2              Evidence   \n",
              "13  18409261F5C2              Evidence   \n",
              "14  18409261F5C2              Evidence   \n",
              "15  18409261F5C2              Evidence   \n",
              "16  18409261F5C2              Evidence   \n",
              "17  18409261F5C2                 Claim   \n",
              "18  18409261F5C2                 Claim   \n",
              "19  18409261F5C2              Evidence   \n",
              "20  18409261F5C2                 Claim   \n",
              "21  18409261F5C2              Evidence   \n",
              "22  18409261F5C2              Evidence   \n",
              "23  18409261F5C2              Evidence   \n",
              "24  18409261F5C2              Position   \n",
              "25  D72CB1C11673              Evidence   \n",
              "26  D72CB1C11673              Evidence   \n",
              "27  D72CB1C11673              Evidence   \n",
              "28  D72CB1C11673              Evidence   \n",
              "29  D72CB1C11673              Evidence   \n",
              "30  D72CB1C11673              Evidence   \n",
              "31  D72CB1C11673              Evidence   \n",
              "32  D72CB1C11673              Evidence   \n",
              "33  D72CB1C11673              Evidence   \n",
              "34  D72CB1C11673              Rebuttal   \n",
              "35  0FB0700DAF44              Evidence   \n",
              "36  0FB0700DAF44              Evidence   \n",
              "37  0FB0700DAF44              Evidence   \n",
              "38  0FB0700DAF44              Evidence   \n",
              "39  0FB0700DAF44              Evidence   \n",
              "40  0FB0700DAF44              Evidence   \n",
              "41  0FB0700DAF44              Evidence   \n",
              "42  0FB0700DAF44              Evidence   \n",
              "43  0FB0700DAF44              Evidence   \n",
              "44  DF920E0A7337              Evidence   \n",
              "45  DF920E0A7337              Evidence   \n",
              "46  DF920E0A7337              Evidence   \n",
              "47  DF920E0A7337              Evidence   \n",
              "48  DF920E0A7337              Evidence   \n",
              "49  DF920E0A7337              Evidence   \n",
              "50  DF920E0A7337              Evidence   \n",
              "51  DF920E0A7337              Evidence   \n",
              "52  DF920E0A7337  Concluding Statement   \n",
              "53  DF920E0A7337              Evidence   \n",
              "54  DF920E0A7337                 Claim   \n",
              "\n",
              "                                     predictionstring  \n",
              "0   1 2 3 4 5 6 7 8 9 10 11 12 13 14 15 16 17 18 1...  \n",
              "1   28 29 30 31 32 33 34 35 36 37 38 39 40 41 42 4...  \n",
              "2   47 48 49 50 51 52 53 54 55 56 57 58 59 60 61 6...  \n",
              "3   85 86 87 88 89 90 91 92 93 94 95 96 97 98 99 1...  \n",
              "4   140 141 142 143 144 145 146 147 148 149 150 15...  \n",
              "5   179 180 181 182 183 184 185 186 187 188 189 19...  \n",
              "6   214 215 216 217 218 219 220 221 222 223 224 22...  \n",
              "7   268 269 270 271 272 273 274 275 276 277 278 27...  \n",
              "8   307 308 309 310 311 312 313 314 315 316 317 31...  \n",
              "9   350 351 352 353 354 355 356 357 358 359 360 36...  \n",
              "10  1 2 3 4 5 6 7 8 9 10 11 12 13 14 15 16 17 18 1...  \n",
              "11  71 72 73 74 75 76 77 78 79 80 81 82 83 84 85 8...  \n",
              "12  163 164 165 166 167 168 169 170 171 172 173 17...  \n",
              "13  330 331 332 333 334 335 336 337 338 339 340 34...  \n",
              "14  442 443 444 445 446 447 448 449 450 451 452 45...  \n",
              "15  603 604 605 606 607 608 609 610 611 612 613 61...  \n",
              "16  740 741 742 743 744 745 746 747 748 749 750 75...  \n",
              "17  763 764 765 766 767 768 769 770 771 772 773 77...  \n",
              "18  787 788 789 790 791 792 793 794 795 796 797 79...  \n",
              "19  803 804 805 806 807 808 809 810 811 812 813 81...  \n",
              "20  865 866 867 868 869 870 871 872 873 874 875 87...  \n",
              "21  880 881 882 883 884 885 886 887 888 889 890 89...  \n",
              "22  928 929 930 931 932 933 934 935 936 937 938 93...  \n",
              "23  988 989 990 991 992 993 994 995 996 997 998 99...  \n",
              "24            1049 1050 1051 1052 1053 1054 1055 1056  \n",
              "25  1 2 3 4 5 6 7 8 9 10 11 12 13 14 15 16 17 18 1...  \n",
              "26  34 35 36 37 38 39 40 41 42 43 44 45 46 47 48 4...  \n",
              "27  81 82 83 84 85 86 87 88 89 90 91 92 93 94 95 9...  \n",
              "28  139 140 141 142 143 144 145 146 147 148 149 15...  \n",
              "29  169 170 171 172 173 174 175 176 177 178 179 18...  \n",
              "30  221 222 223 224 225 226 227 228 229 230 231 23...  \n",
              "31  266 267 268 269 270 271 272 273 274 275 276 27...  \n",
              "32  337 338 339 340 341 342 343 344 345 346 347 34...  \n",
              "33  363 364 365 366 367 368 369 370 371 372 373 37...  \n",
              "34    410 411 412 413 414 415 416 417 418 419 420 421  \n",
              "35  1 2 3 4 5 6 7 8 9 10 11 12 13 14 15 16 17 18 1...  \n",
              "36  108 109 110 111 112 113 114 115 116 117 118 11...  \n",
              "37  121 122 123 124 125 126 127 128 129 130 131 13...  \n",
              "38  230 231 232 233 234 235 236 237 238 239 240 24...  \n",
              "39  284 285 286 287 288 289 290 291 292 293 294 29...  \n",
              "40  315 316 317 318 319 320 321 322 323 324 325 32...  \n",
              "41  432 433 434 435 436 437 438 439 440 441 442 44...  \n",
              "42  561 562 563 564 565 566 567 568 569 570 571 57...  \n",
              "43  619 620 621 622 623 624 625 626 627 628 629 63...  \n",
              "44  1 2 3 4 5 6 7 8 9 10 11 12 13 14 15 16 17 18 1...  \n",
              "45  43 44 45 46 47 48 49 50 51 52 53 54 55 56 57 5...  \n",
              "46  109 110 111 112 113 114 115 116 117 118 119 12...  \n",
              "47  220 221 222 223 224 225 226 227 228 229 230 23...  \n",
              "48  302 303 304 305 306 307 308 309 310 311 312 31...  \n",
              "49  405 406 407 408 409 410 411 412 413 414 415 41...  \n",
              "50  458 459 460 461 462 463 464 465 466 467 468 46...  \n",
              "51  554 555 556 557 558 559 560 561 562 563 564 56...  \n",
              "52  619 620 621 622 623 624 625 626 627 628 629 63...  \n",
              "53  652 653 654 655 656 657 658 659 660 661 662 66...  \n",
              "54                703 704 705 706 707 708 709 710 711  "
            ]
          },
          "metadata": {},
          "execution_count": 31
        }
      ]
    },
    {
      "cell_type": "code",
      "source": [
        "submission_df['class'].unique()"
      ],
      "metadata": {
        "colab": {
          "base_uri": "https://localhost:8080/"
        },
        "id": "vPBkNZU4pRKh",
        "outputId": "576d2e41-09c7-4f85-c41c-a2a178be2a30"
      },
      "execution_count": null,
      "outputs": [
        {
          "output_type": "execute_result",
          "data": {
            "text/plain": [
              "array(['Evidence', 'Claim', 'Position', 'Rebuttal',\n",
              "       'Concluding Statement'], dtype=object)"
            ]
          },
          "metadata": {},
          "execution_count": 32
        }
      ]
    },
    {
      "cell_type": "code",
      "source": [
        "submission_df.to_csv(\"submission.csv\", index=False)"
      ],
      "metadata": {
        "id": "CeWE4TXxpVQq"
      },
      "execution_count": null,
      "outputs": []
    },
    {
      "cell_type": "code",
      "source": [
        "MODEL_NAME = \"LSTM_32_5.h5\"\n",
        "MODEL_SAVE = '/content/drive/MyDrive/Model/LSTM_LYC/'+ MODEL_NAME\n",
        "model.save(MODEL_SAVE)"
      ],
      "metadata": {
        "id": "L-qIQPpz4vMY"
      },
      "execution_count": null,
      "outputs": []
    },
    {
      "cell_type": "markdown",
      "source": [
        "#Load Model"
      ],
      "metadata": {
        "id": "A6bpRc89u52l"
      }
    },
    {
      "cell_type": "code",
      "source": [
        "model = load_model(MODEL_NAME)"
      ],
      "metadata": {
        "colab": {
          "base_uri": "https://localhost:8080/"
        },
        "id": "jPgVf0DCu5Yl",
        "outputId": "10d247c1-1225-4527-9df3-3c1e32c03939"
      },
      "execution_count": null,
      "outputs": [
        {
          "output_type": "stream",
          "name": "stdout",
          "text": [
            "WARNING:tensorflow:Layer lstm will not use cuDNN kernels since it doesn't meet the criteria. It will use a generic GPU kernel as fallback when running on GPU.\n"
          ]
        }
      ]
    }
  ]
}